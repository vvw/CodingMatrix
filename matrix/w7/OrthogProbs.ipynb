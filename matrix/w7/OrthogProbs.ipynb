{
 "cells": [
  {
   "cell_type": "code",
   "execution_count": 125,
   "metadata": {
    "collapsed": false
   },
   "outputs": [],
   "source": [
    "from __future__ import division\n",
    "from mat import Mat\n",
    "from vec import Vec\n",
    "from vecutil import list2vec\n",
    "from matutil import listlist2mat, coldict2mat"
   ]
  },
  {
   "cell_type": "code",
   "execution_count": 102,
   "metadata": {
    "collapsed": true
   },
   "outputs": [],
   "source": [
    "def project_along(b,v):\n",
    "    sigma = (b*v)/(v*v) if (v*v) != 0 else 0\n",
    "    return sigma*v"
   ]
  },
  {
   "cell_type": "code",
   "execution_count": 103,
   "metadata": {
    "collapsed": true
   },
   "outputs": [],
   "source": [
    "def project_orthogonal(b, vlist):\n",
    "    for v in vlist:\n",
    "        b = b - project_along(b,v)\n",
    "    return b"
   ]
  },
  {
   "cell_type": "code",
   "execution_count": 104,
   "metadata": {
    "collapsed": true
   },
   "outputs": [],
   "source": [
    "def orthogonalize(vlist):\n",
    "    vstarlist = []\n",
    "    for v in vlist:\n",
    "        vstarlist.append(project_orthogonal(v, vstarlist))\n",
    "    return vstarlist"
   ]
  },
  {
   "cell_type": "code",
   "execution_count": 33,
   "metadata": {
    "collapsed": false
   },
   "outputs": [
    {
     "name": "stdout",
     "output_type": "stream",
     "text": [
      "\n",
      "  0  1     2     3\n",
      "------------------\n",
      " -0 -0 -2.54 -1.69\n"
     ]
    }
   ],
   "source": [
    "print project_along(list2vec([1,2,-3,-1]), list2vec([0,0,3,2]))"
   ]
  },
  {
   "cell_type": "code",
   "execution_count": 38,
   "metadata": {
    "collapsed": false
   },
   "outputs": [
    {
     "name": "stdout",
     "output_type": "stream",
     "text": [
      "\n",
      " 0 1      2     3\n",
      "-----------------\n",
      " 1 2 -0.462 0.692\n"
     ]
    }
   ],
   "source": [
    "print project_orthogonal(list2vec([1,2,-3,-1]), [list2vec([0,0,3,2])])"
   ]
  },
  {
   "cell_type": "markdown",
   "metadata": {},
   "source": [
    "## P1.1"
   ]
  },
  {
   "cell_type": "code",
   "execution_count": 67,
   "metadata": {
    "collapsed": false
   },
   "outputs": [
    {
     "name": "stdout",
     "output_type": "stream",
     "text": [
      "5\n"
     ]
    }
   ],
   "source": [
    "U_vecs_1 = [list2vec([0,0,3,2])]\n",
    "W_vecs_1 = [list2vec(v) for v in [[1,2,-3,-1],[1,2,0,1],[3,1,0,-1],[-1,-2,3,1]]]\n",
    "U_vecs_1.extend(W_vecs_1)\n",
    "print len(U_vecs_1)"
   ]
  },
  {
   "cell_type": "code",
   "execution_count": 68,
   "metadata": {
    "collapsed": false
   },
   "outputs": [
    {
     "name": "stdout",
     "output_type": "stream",
     "text": [
      "\n",
      " 0 1 2 3\n",
      "--------\n",
      " 0 0 3 2\n",
      "\n",
      " 0 1      2     3\n",
      "-----------------\n",
      " 1 2 -0.462 0.692\n",
      "\n",
      " 0 1        2 3\n",
      "---------------\n",
      " 0 0 1.11E-16 0\n",
      "\n",
      "    0      1 2     3\n",
      "--------------------\n",
      " 2.24 -0.514 0 -1.22\n",
      "\n",
      " 0 1 2 3\n",
      "--------\n",
      " 0 0 0 0\n"
     ]
    }
   ],
   "source": [
    "for v in orthogonalize(U_vecs_1):\n",
    "    print v"
   ]
  },
  {
   "cell_type": "code",
   "execution_count": 65,
   "metadata": {
    "collapsed": false
   },
   "outputs": [
    {
     "name": "stdout",
     "output_type": "stream",
     "text": [
      "\n",
      " 0 1 2 3\n",
      "--------\n",
      " 0 0 3 2\n",
      "\n",
      " 0 1      2     3\n",
      "-----------------\n",
      " 1 2 -0.462 0.692\n",
      "\n",
      "    0      1     2     3\n",
      "------------------------\n",
      " 2.24 -0.514 0.811 -1.22\n",
      "\n",
      "         0        1        2        3\n",
      "-------------------------------------\n",
      " -2.72E-17 6.22E-18 1.01E-16 1.47E-17\n"
     ]
    }
   ],
   "source": [
    "for v in orthogonalize(U_vecs_1):\n",
    "    print v"
   ]
  },
  {
   "cell_type": "code",
   "execution_count": 57,
   "metadata": {
    "collapsed": false
   },
   "outputs": [
    {
     "name": "stdout",
     "output_type": "stream",
     "text": [
      "[Vec(set([0, 1, 2, 3]),{0: 0, 1: 0, 2: 3, 3: 2}), Vec(set([0, 1, 2, 3]),{0: 1.0, 1: 2.0, 2: -0.4615384615384617, 3: 0.6923076923076923}), Vec(set([0, 1, 2, 3]),{0: 0.0, 1: 0.0, 2: 1.1102230246251565e-16, 3: 0.0}), Vec(set([0, 1, 2, 3]),{0: 2.2432432432432434, 1: -0.5135135135135134, 2: 0.0, 3: -1.2162162162162162}), Vec(set([0, 1, 2, 3]),{0: 0.0, 1: 0.0, 2: 0.0, 3: 0.0})]\n"
     ]
    }
   ],
   "source": [
    "print orthogonalize(U_vecs_1)"
   ]
  },
  {
   "cell_type": "markdown",
   "metadata": {},
   "source": [
    "## P1.2"
   ]
  },
  {
   "cell_type": "code",
   "execution_count": 47,
   "metadata": {
    "collapsed": false
   },
   "outputs": [
    {
     "name": "stdout",
     "output_type": "stream",
     "text": [
      "3\n"
     ]
    }
   ],
   "source": [
    "U_vecs_2 = [list2vec([3,0,1])]\n",
    "W_vecs_2 = [list2vec(v) for v in [[1,0,0],[1,0,1]]]\n",
    "U_vecs_2.extend(W_vecs_2)\n",
    "print len(U_vecs_2)"
   ]
  },
  {
   "cell_type": "code",
   "execution_count": 48,
   "metadata": {
    "collapsed": false
   },
   "outputs": [
    {
     "name": "stdout",
     "output_type": "stream",
     "text": [
      "\n",
      " 0 1 2\n",
      "------\n",
      " 3 0 1\n",
      "\n",
      "   0 1    2\n",
      "-----------\n",
      " 0.1 0 -0.3\n",
      "\n",
      " 0 1 2\n",
      "------\n",
      " 0 0 0\n"
     ]
    }
   ],
   "source": [
    "for v in orthogonalize(U_vecs_2):\n",
    "    print v"
   ]
  },
  {
   "cell_type": "markdown",
   "metadata": {},
   "source": [
    "## P1.3"
   ]
  },
  {
   "cell_type": "code",
   "execution_count": 49,
   "metadata": {
    "collapsed": false
   },
   "outputs": [
    {
     "name": "stdout",
     "output_type": "stream",
     "text": [
      "6\n"
     ]
    }
   ],
   "source": [
    "U_vecs_3 = [list2vec(v) for v in [[-4,3,1,-2],[-2,2,3,-1]]]\n",
    "W_vecs_3 = [list2vec(v) for v in [[1,0,0,0],[0,1,0,0],[0,0,1,0],[0,0,0,1]]]\n",
    "U_vecs_3.extend(W_vecs_3)\n",
    "print len(U_vecs_3)"
   ]
  },
  {
   "cell_type": "code",
   "execution_count": 50,
   "metadata": {
    "collapsed": false
   },
   "outputs": [
    {
     "name": "stdout",
     "output_type": "stream",
     "text": [
      "\n",
      "  0 1 2  3\n",
      "----------\n",
      " -4 3 1 -2\n",
      "\n",
      "     0   1    2     3\n",
      "---------------------\n",
      " 0.533 0.1 2.37 0.267\n",
      "\n",
      "     0     1       2      3\n",
      "---------------------------\n",
      " 0.419 0.391 -0.0782 -0.291\n",
      "\n",
      "         0     1       2     3\n",
      "------------------------------\n",
      " -1.11E-16 0.333 -0.0667 0.467\n",
      "\n",
      "        0         1         2 3\n",
      "-------------------------------\n",
      " 5.55E-18 -4.16E-17 -1.93E-16 0\n",
      "\n",
      "        0        1         2         3\n",
      "--------------------------------------\n",
      " 2.12E-16 2.16E-16 -4.07E-17 -2.22E-16\n"
     ]
    }
   ],
   "source": [
    "for v in orthogonalize(U_vecs_3):\n",
    "    print v"
   ]
  },
  {
   "cell_type": "markdown",
   "metadata": {},
   "source": [
    "## P3"
   ]
  },
  {
   "cell_type": "code",
   "execution_count": 72,
   "metadata": {
    "collapsed": true
   },
   "outputs": [],
   "source": [
    "from math import sqrt"
   ]
  },
  {
   "cell_type": "code",
   "execution_count": 73,
   "metadata": {
    "collapsed": true
   },
   "outputs": [],
   "source": [
    "def orthonormalize(L):\n",
    "    vstar = orthogonalize(L)\n",
    "    norm = [sqrt(v*v) for v in vstar]\n",
    "    return [v/n for v, n in zip(vstar, norm)]"
   ]
  },
  {
   "cell_type": "code",
   "execution_count": 75,
   "metadata": {
    "collapsed": false
   },
   "outputs": [
    {
     "name": "stdout",
     "output_type": "stream",
     "text": [
      "\n",
      "    a     b     c     d\n",
      "-----------------------\n",
      " 0.73 0.548 0.183 0.365\n",
      "\n",
      "     a     b      c      d\n",
      "--------------------------\n",
      " 0.187 0.403 -0.566 -0.695\n",
      "\n",
      "     a      b      c     d\n",
      "--------------------------\n",
      " 0.528 -0.653 -0.512 0.181\n"
     ]
    }
   ],
   "source": [
    "D = {'a','b','c','d'}\n",
    "L = [Vec(D, {'a':4,'b':3,'c':1,'d':2}), Vec(D, {'a':8,'b':9,'c':-5,'d':-5}), Vec(D, {'a':10,'b':1,'c':-1,'d':5})]\n",
    "for v in orthonormalize(L):\n",
    "    print v"
   ]
  },
  {
   "cell_type": "markdown",
   "metadata": {},
   "source": [
    "## P2"
   ]
  },
  {
   "cell_type": "code",
   "execution_count": 109,
   "metadata": {
    "collapsed": true
   },
   "outputs": [],
   "source": [
    "def aug_project_orthogonal(b, vlist):\n",
    "    alphadict = dict()\n",
    "    if len(vlist) == 0:\n",
    "        alphadict[0] = 1\n",
    "    else:\n",
    "        for i, v in enumerate(vlist):\n",
    "            sigma = (b*v)/(v*v) if (v*v) != 0 else 0\n",
    "            alphadict[i] = sigma\n",
    "            b = b - sigma*v\n",
    "        alphadict[i+1] = 1\n",
    "    return b, alphadict"
   ]
  },
  {
   "cell_type": "code",
   "execution_count": 110,
   "metadata": {
    "collapsed": true
   },
   "outputs": [],
   "source": [
    "def aug_orthogonalize(vlist):\n",
    "    vstarlist = []\n",
    "    r_vecs = []\n",
    "    D = set(range(len(vlist)))\n",
    "    for v in vlist:\n",
    "        (vstar, alphadict) = aug_project_orthogonal(v, vstarlist)\n",
    "        vstarlist.append(vstar)\n",
    "        r_vecs.append(Vec(D, alphadict))\n",
    "    return vstarlist, r_vecs"
   ]
  },
  {
   "cell_type": "code",
   "execution_count": 111,
   "metadata": {
    "collapsed": true
   },
   "outputs": [],
   "source": [
    "colsA = [list2vec(v) for v in [[-4,0],[-1,4],[-3,0],[-2,-1]]]\n",
    "A = coldict2mat(colsA)"
   ]
  },
  {
   "cell_type": "code",
   "execution_count": 112,
   "metadata": {
    "collapsed": false
   },
   "outputs": [
    {
     "name": "stdout",
     "output_type": "stream",
     "text": [
      "\n",
      "        0  1  2  3\n",
      "     -------------\n",
      " 0  |  -4 -1 -3 -2\n",
      " 1  |   0  4  0 -1\n",
      "\n"
     ]
    }
   ],
   "source": [
    "print A"
   ]
  },
  {
   "cell_type": "code",
   "execution_count": 113,
   "metadata": {
    "collapsed": false
   },
   "outputs": [],
   "source": [
    "colsAstar = orthogonalize(colsA)"
   ]
  },
  {
   "cell_type": "code",
   "execution_count": 114,
   "metadata": {
    "collapsed": false
   },
   "outputs": [
    {
     "name": "stdout",
     "output_type": "stream",
     "text": [
      "\n",
      "        0 1 2 3\n",
      "     ----------\n",
      " 0  |  -4 0 0 0\n",
      " 1  |   0 4 0 0\n",
      "\n"
     ]
    }
   ],
   "source": [
    "print coldict2mat(colsAstar)"
   ]
  },
  {
   "cell_type": "code",
   "execution_count": 115,
   "metadata": {
    "collapsed": false
   },
   "outputs": [],
   "source": [
    "cols2Astar, r_vecs = aug_orthogonalize(colsA)"
   ]
  },
  {
   "cell_type": "code",
   "execution_count": 117,
   "metadata": {
    "collapsed": false
   },
   "outputs": [
    {
     "name": "stdout",
     "output_type": "stream",
     "text": [
      "\n",
      "        0 1 2 3\n",
      "     ----------\n",
      " 0  |  -4 0 0 0\n",
      " 1  |   0 4 0 0\n",
      "\n"
     ]
    }
   ],
   "source": [
    "print coldict2mat(cols2Astar)"
   ]
  },
  {
   "cell_type": "code",
   "execution_count": 122,
   "metadata": {
    "collapsed": false
   },
   "outputs": [
    {
     "data": {
      "text/plain": [
       "[Vec(set([0, 1, 2, 3]),{0: 1}),\n",
       " Vec(set([0, 1, 2, 3]),{0: 0.25, 1: 1}),\n",
       " Vec(set([0, 1, 2, 3]),{0: 0.75, 1: 0.0, 2: 1}),\n",
       " Vec(set([0, 1, 2, 3]),{0: 0.5, 1: -0.25, 2: 0, 3: 1})]"
      ]
     },
     "execution_count": 122,
     "metadata": {},
     "output_type": "execute_result"
    }
   ],
   "source": [
    "r_vecs"
   ]
  },
  {
   "cell_type": "code",
   "execution_count": 119,
   "metadata": {
    "collapsed": false
   },
   "outputs": [
    {
     "name": "stdout",
     "output_type": "stream",
     "text": [
      "\n",
      "       0    1    2     3\n",
      "     -------------------\n",
      " 0  |  1 0.25 0.75   0.5\n",
      " 1  |  0    1    0 -0.25\n",
      " 2  |  0    0    1     0\n",
      " 3  |  0    0    0     1\n",
      "\n"
     ]
    }
   ],
   "source": [
    "print coldict2mat(r_vecs)"
   ]
  },
  {
   "cell_type": "code",
   "execution_count": 121,
   "metadata": {
    "collapsed": false
   },
   "outputs": [
    {
     "name": "stdout",
     "output_type": "stream",
     "text": [
      "\n",
      "        0  1  2  3\n",
      "     -------------\n",
      " 0  |  -4 -1 -3 -2\n",
      " 1  |   0  4  0 -1\n",
      "\n"
     ]
    }
   ],
   "source": [
    "print coldict2mat(cols2Astar) * coldict2mat(r_vecs)"
   ]
  },
  {
   "cell_type": "code",
   "execution_count": 126,
   "metadata": {
    "collapsed": false
   },
   "outputs": [
    {
     "data": {
      "text/plain": [
       "Mat((set([0, 1]), set([0, 1, 2, 3])), {(0, 1): -1, (1, 2): 0, (0, 0): -4, (0, 3): -2, (0, 2): -3, (1, 3): -1, (1, 0): 0, (1, 1): 4})"
      ]
     },
     "execution_count": 126,
     "metadata": {},
     "output_type": "execute_result"
    }
   ],
   "source": [
    "# python3 solver_for_p2.py -> x1, x2\n",
    "A"
   ]
  },
  {
   "cell_type": "code",
   "execution_count": 128,
   "metadata": {
    "collapsed": false
   },
   "outputs": [],
   "source": [
    "x1 = Vec({0, 1, 2, 3},{0: -0.75, 1: 0.0, 2: 1.0, 3: 0.0})\n",
    "x2 = Vec({0, 1, 2, 3},{0: -0.5625, 1: 0.25, 2: 0.0, 3: 1.0})"
   ]
  },
  {
   "cell_type": "code",
   "execution_count": 129,
   "metadata": {
    "collapsed": false
   },
   "outputs": [
    {
     "data": {
      "text/plain": [
       "Vec(set([0, 1]),{0: 0.0, 1: 0.0})"
      ]
     },
     "execution_count": 129,
     "metadata": {},
     "output_type": "execute_result"
    }
   ],
   "source": [
    "A*x1"
   ]
  },
  {
   "cell_type": "code",
   "execution_count": 130,
   "metadata": {
    "collapsed": false
   },
   "outputs": [
    {
     "data": {
      "text/plain": [
       "Vec(set([0, 1]),{0: 0.0, 1: 0.0})"
      ]
     },
     "execution_count": 130,
     "metadata": {},
     "output_type": "execute_result"
    }
   ],
   "source": [
    "A*x2"
   ]
  },
  {
   "cell_type": "markdown",
   "metadata": {},
   "source": [
    "## P4"
   ]
  },
  {
   "cell_type": "code",
   "execution_count": 155,
   "metadata": {
    "collapsed": true
   },
   "outputs": [],
   "source": [
    "def aug_orthonormalize(L):\n",
    "    Qlist, Rlist = aug_orthogonalize(L)\n",
    "    norm = [sqrt(v*v) for v in Qlist]\n",
    "    normQlist = [v/n for v, n in zip(Qlist, norm)]\n",
    "    normRlist = []\n",
    "    for r in Rlist:\n",
    "        normRlist.append(Vec(r.D,{i:r[i]*norm[i] for i in r.D}))\n",
    "    return normQlist, normRlist"
   ]
  },
  {
   "cell_type": "code",
   "execution_count": 156,
   "metadata": {
    "collapsed": true
   },
   "outputs": [],
   "source": [
    "L = [list2vec(v) for v in [[4,3,1,2],[8,9,-5,-5],[10,1,-1,5]]]"
   ]
  },
  {
   "cell_type": "code",
   "execution_count": 157,
   "metadata": {
    "collapsed": false
   },
   "outputs": [
    {
     "name": "stdout",
     "output_type": "stream",
     "text": [
      "\n",
      "       0  1  2\n",
      "     ---------\n",
      " 0  |  4  8 10\n",
      " 1  |  3  9  1\n",
      " 2  |  1 -5 -1\n",
      " 3  |  2 -5  5\n",
      "\n"
     ]
    }
   ],
   "source": [
    "print(coldict2mat(L))"
   ]
  },
  {
   "cell_type": "code",
   "execution_count": 158,
   "metadata": {
    "collapsed": true
   },
   "outputs": [],
   "source": [
    "Qlist, Rlist = aug_orthonormalize(L)"
   ]
  },
  {
   "cell_type": "code",
   "execution_count": 159,
   "metadata": {
    "collapsed": false
   },
   "outputs": [
    {
     "name": "stdout",
     "output_type": "stream",
     "text": [
      "\n",
      "           0      1      2\n",
      "     ---------------------\n",
      " 0  |   0.73  0.187  0.528\n",
      " 1  |  0.548  0.403 -0.653\n",
      " 2  |  0.183 -0.566 -0.512\n",
      " 3  |  0.365 -0.695  0.181\n",
      "\n"
     ]
    }
   ],
   "source": [
    "print(coldict2mat(Qlist))"
   ]
  },
  {
   "cell_type": "code",
   "execution_count": 160,
   "metadata": {
    "collapsed": false
   },
   "outputs": [
    {
     "name": "stdout",
     "output_type": "stream",
     "text": [
      "\n",
      "          0    1      2\n",
      "     ------------------\n",
      " 0  |  5.48 8.03   9.49\n",
      " 1  |     0 11.4 -0.636\n",
      " 2  |     0    0   6.04\n",
      "\n"
     ]
    }
   ],
   "source": [
    "print(coldict2mat(Rlist))"
   ]
  },
  {
   "cell_type": "code",
   "execution_count": 161,
   "metadata": {
    "collapsed": false
   },
   "outputs": [
    {
     "name": "stdout",
     "output_type": "stream",
     "text": [
      "\n",
      "       0  1  2\n",
      "     ---------\n",
      " 0  |  4  8 10\n",
      " 1  |  3  9  1\n",
      " 2  |  1 -5 -1\n",
      " 3  |  2 -5  5\n",
      "\n"
     ]
    }
   ],
   "source": [
    "print(coldict2mat(Qlist)*coldict2mat(Rlist))"
   ]
  },
  {
   "cell_type": "markdown",
   "metadata": {},
   "source": [
    "## P5.1"
   ]
  },
  {
   "cell_type": "code",
   "execution_count": 168,
   "metadata": {
    "collapsed": false
   },
   "outputs": [
    {
     "name": "stdout",
     "output_type": "stream",
     "text": [
      "\n",
      "       0 1\n",
      "     -----\n",
      " 0  |  6 6\n",
      " 1  |  2 0\n",
      " 2  |  3 3\n",
      "\n"
     ]
    }
   ],
   "source": [
    "L = [list2vec(v) for v in [[6,2,3],[6,0,3]]]\n",
    "print(coldict2mat(L))"
   ]
  },
  {
   "cell_type": "code",
   "execution_count": 169,
   "metadata": {
    "collapsed": false
   },
   "outputs": [
    {
     "name": "stdout",
     "output_type": "stream",
     "text": [
      "\n",
      "           0      1\n",
      "     --------------\n",
      " 0  |  0.857  0.256\n",
      " 1  |  0.286 -0.958\n",
      " 2  |  0.429  0.128\n",
      "\n",
      "\n",
      "       0    1\n",
      "     --------\n",
      " 0  |  7 6.43\n",
      " 1  |  0 1.92\n",
      "\n",
      "\n",
      "       0 1\n",
      "     -----\n",
      " 0  |  6 6\n",
      " 1  |  2 0\n",
      " 2  |  3 3\n",
      "\n"
     ]
    }
   ],
   "source": [
    "Qlist, Rlist = aug_orthonormalize(L)\n",
    "print(coldict2mat(Qlist))\n",
    "print(coldict2mat(Rlist))\n",
    "print(coldict2mat(Qlist)*coldict2mat(Rlist))"
   ]
  },
  {
   "cell_type": "markdown",
   "metadata": {},
   "source": [
    "## P5.2"
   ]
  },
  {
   "cell_type": "code",
   "execution_count": 170,
   "metadata": {
    "collapsed": false
   },
   "outputs": [
    {
     "name": "stdout",
     "output_type": "stream",
     "text": [
      "\n",
      "       0 1\n",
      "     -----\n",
      " 0  |  2 3\n",
      " 1  |  2 1\n",
      " 2  |  1 1\n",
      "\n"
     ]
    }
   ],
   "source": [
    "L = [list2vec(v) for v in [[2,2,1],[3,1,1]]]\n",
    "print(coldict2mat(L))"
   ]
  },
  {
   "cell_type": "code",
   "execution_count": 171,
   "metadata": {
    "collapsed": false
   },
   "outputs": [
    {
     "name": "stdout",
     "output_type": "stream",
     "text": [
      "\n",
      "           0      1\n",
      "     --------------\n",
      " 0  |  0.667  0.707\n",
      " 1  |  0.667 -0.707\n",
      " 2  |  0.333      0\n",
      "\n",
      "\n",
      "       0    1\n",
      "     --------\n",
      " 0  |  3    3\n",
      " 1  |  0 1.41\n",
      "\n",
      "\n",
      "       0 1\n",
      "     -----\n",
      " 0  |  2 3\n",
      " 1  |  2 1\n",
      " 2  |  1 1\n",
      "\n"
     ]
    }
   ],
   "source": [
    "Qlist, Rlist = aug_orthonormalize(L)\n",
    "print(coldict2mat(Qlist))\n",
    "print(coldict2mat(Rlist))\n",
    "print(coldict2mat(Qlist)*coldict2mat(Rlist))"
   ]
  },
  {
   "cell_type": "markdown",
   "metadata": {},
   "source": [
    "## P6"
   ]
  },
  {
   "cell_type": "code",
   "execution_count": 173,
   "metadata": {
    "collapsed": true
   },
   "outputs": [],
   "source": [
    "# python3 solver_for_p6.py"
   ]
  },
  {
   "cell_type": "code",
   "execution_count": null,
   "metadata": {
    "collapsed": true
   },
   "outputs": [],
   "source": []
  },
  {
   "cell_type": "code",
   "execution_count": 174,
   "metadata": {
    "collapsed": true
   },
   "outputs": [],
   "source": [
    "from scipy import stats\n",
    "import numpy as np"
   ]
  },
  {
   "cell_type": "code",
   "execution_count": 175,
   "metadata": {
    "collapsed": true
   },
   "outputs": [],
   "source": [
    "x=[18.0, 19.0, 20.0, 21.0, 22.0, 23.0, 24.0, 25.0, 26.0, 27.0, 28.0, 29.0]\n",
    "y=[76.1, 77.0, 78.1, 78.2, 78.8, 79.7, 79.9, 81.1, 81.2, 81.8, 82.8, 83.5]"
   ]
  },
  {
   "cell_type": "code",
   "execution_count": 176,
   "metadata": {
    "collapsed": true
   },
   "outputs": [],
   "source": [
    "slope, intercept, r_value, p_value, std_err = stats.linregress(x,y)"
   ]
  },
  {
   "cell_type": "code",
   "execution_count": 177,
   "metadata": {
    "collapsed": false
   },
   "outputs": [
    {
     "data": {
      "text/plain": [
       "0.6349650349650352"
      ]
     },
     "execution_count": 177,
     "metadata": {},
     "output_type": "execute_result"
    }
   ],
   "source": [
    "slope"
   ]
  },
  {
   "cell_type": "code",
   "execution_count": 178,
   "metadata": {
    "collapsed": false
   },
   "outputs": [
    {
     "data": {
      "text/plain": [
       "64.928321678321666"
      ]
     },
     "execution_count": 178,
     "metadata": {},
     "output_type": "execute_result"
    }
   ],
   "source": [
    "intercept"
   ]
  },
  {
   "cell_type": "code",
   "execution_count": null,
   "metadata": {
    "collapsed": true
   },
   "outputs": [],
   "source": []
  }
 ],
 "metadata": {
  "kernelspec": {
   "display_name": "Python 2",
   "language": "python",
   "name": "python2"
  },
  "language_info": {
   "codemirror_mode": {
    "name": "ipython",
    "version": 2
   },
   "file_extension": ".py",
   "mimetype": "text/x-python",
   "name": "python",
   "nbconvert_exporter": "python",
   "pygments_lexer": "ipython2",
   "version": "2.7.6"
  }
 },
 "nbformat": 4,
 "nbformat_minor": 0
}
