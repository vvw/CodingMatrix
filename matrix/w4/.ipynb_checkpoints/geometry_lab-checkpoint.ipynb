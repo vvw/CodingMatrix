{
 "metadata": {
  "name": "",
  "signature": "sha256:6d2069b2462c14e9ba535d1b4d5e6018868c5e194eb93fa1a273cd7549f843ad"
 },
 "nbformat": 3,
 "nbformat_minor": 0,
 "worksheets": [
  {
   "cells": [
    {
     "cell_type": "heading",
     "level": 1,
     "metadata": {},
     "source": [
      "<span style=\"color: rgb(36, 85, 195);\">Geometry with matrices</span>"
     ]
    },
    {
     "cell_type": "markdown",
     "metadata": {},
     "source": [
      "### <span style=\"color: #2878A2;\">_Representation for points in the plane_</span>\n",
      "\n",
      "We will use a ```{'x','y','u'}```-vector to represent a point $(x,y)$ in the plane. This representation is called __homogeneous coordinates__. We will not be making use of homogeneous coordinates in their full generality; here, __$u$ coordinate will always be 1__.\n",
      "\n",
      "### <span style=\"color: #2878A2;\">_Transformations_</span>\n",
      "\n",
      "A **geometric transformation** will be represented by a $3 \\times 3$ matrix $M$. To apply the transformation to the location of a single point, use matrix-vector multiplication to multiply the matrix by the location vector representing the point.\n",
      "\n",
      "For example scaling the point by two in the vertical direction:\n",
      "\n",
      "$$\\begin{bmatrix} x_s \\\\ y_s \\end{bmatrix} = \\begin{bmatrix} 1 & 0 \\\\ 0 & 2 \\end{bmatrix} \\begin{bmatrix} x \\\\ y \\end{bmatrix}$$\n",
      "\n",
      "or in __homogeneous coordinates__:\n",
      "\n",
      "$$\\begin{bmatrix} x_s \\\\ y_s \\\\ 1 \\end{bmatrix} = \\begin{bmatrix} 1 & 0 & 0 \\\\ 0 & 2 & 0  \\\\ 0 & 0 & 1\\end{bmatrix} \\begin{bmatrix} x \\\\ y \\\\ 1 \\end{bmatrix}$$\n",
      "\n",
      "Suppose we want to apply such a transformation to __many points at the same time__. According to the matrix-vector definition of matrix-matrix multiplication, to apply the transformation to many points, we put the points together to form a __location matrix__ and left-multiply that location matrix by the matrix representing the transformation.\n",
      "\n",
      "### <span style=\"color: #2878A2;\">_Linear transformations_</span>\n",
      "\n",
      "You will be writing a module named __transform__ that provides a number of simple linear transformations. Each method will __return the transformation matrix__ and you can apply it to a specific image using __matrix multiplication__\n",
      "\n",
      "### <span style=\"color: #2878A2;\">_Scheme for representing images_</span>\n",
      "\n",
      "If want to know the approach taken on this lab to represent images and colored points [please visit this link](geometry_lab.pdf)\n",
      "\n",
      "### <span style=\"color: #2878A2;\">_Imports_</span>"
     ]
    },
    {
     "cell_type": "code",
     "collapsed": false,
     "input": [
      "from mat import Mat\n",
      "from vec import Vec\n",
      "import math"
     ],
     "language": "python",
     "metadata": {},
     "outputs": [],
     "prompt_number": 7
    },
    {
     "cell_type": "heading",
     "level": 2,
     "metadata": {},
     "source": [
      "<span style=\"color: rgb(36, 85, 195);\">1. Identity</span>"
     ]
    },
    {
     "cell_type": "markdown",
     "metadata": {},
     "source": [
      "Write a procedure identity() which takes no arguments and returns an identity matrix for location (```{x, y, u}```) vectors.\n",
      "\n",
      "**Example**:\n",
      "    >>> identity()==Mat(({'x','y','u'},{'x','y','u'}), {('x','x'):1, ('y','y'):1, ('u','u'):1})\n",
      "    True\n",
      "    >>> identity({'r','g','b'})==Mat(({'r','g','b'},{'r','g','b'}), {('r','r'):1, ('g','g'):1, ('b','b'):1})\n",
      "    True"
     ]
    },
    {
     "cell_type": "code",
     "collapsed": false,
     "input": [
      "def identity(labels = {'x','y','u'}):\n",
      "    return Mat((labels, labels), {(key, key):1 for key in labels})"
     ],
     "language": "python",
     "metadata": {},
     "outputs": [],
     "prompt_number": 17
    },
    {
     "cell_type": "code",
     "collapsed": false,
     "input": [
      "print identity()"
     ],
     "language": "python",
     "metadata": {},
     "outputs": [
      {
       "output_type": "stream",
       "stream": "stdout",
       "text": [
        "\n",
        "       u x y\n",
        "     -------\n",
        " u  |  1 0 0\n",
        " x  |  0 1 0\n",
        " y  |  0 0 1\n",
        "\n"
       ]
      }
     ],
     "prompt_number": 18
    },
    {
     "cell_type": "heading",
     "level": 2,
     "metadata": {},
     "source": [
      "<span style=\"color: rgb(36, 85, 195);\">2. Translation</span>"
     ]
    },
    {
     "cell_type": "markdown",
     "metadata": {},
     "source": [
      "Recall that a translation is a transformation that moves a point $(x, y)$ to $(x + \\alpha, y + \\beta)$, where $\\alpha$ and $\\beta$ are parameters of the transformation. Write a procedure ```translation(alpha, beta)``` that takes two translation parameters and returns the corresponding $3 \\times 3$ translation matrix.\n",
      "\n",
      "**input**: an $x$ and $y$ value by which to translate an image.\n",
      "\n",
      "**output**: corresponding $3 \\times 3$ translation matrix.\n",
      "\n",
      "**Example**:\n",
      "    >>> translation(9,10)==Mat(({'x','y','u'},{'x','y','u'}), {('x','x'):1, ('y','y'):1, ('u','u'):1, ('y','u'):10, ('x','u'):9})\n",
      "    True"
     ]
    },
    {
     "cell_type": "code",
     "collapsed": false,
     "input": [
      "def translation(x,y):\n",
      "    return Mat(({'x','y','u'},{'x','y','u'}), \n",
      "                                   {('x','x'):1, ('y','y'):1, \n",
      "                                    ('u','u'):1, ('y','u'):y, \n",
      "                                    ('x','u'):x})"
     ],
     "language": "python",
     "metadata": {},
     "outputs": [],
     "prompt_number": 19
    },
    {
     "cell_type": "code",
     "collapsed": false,
     "input": [
      "print translation(9,10)"
     ],
     "language": "python",
     "metadata": {},
     "outputs": [
      {
       "output_type": "stream",
       "stream": "stdout",
       "text": [
        "\n",
        "        u x y\n",
        "     --------\n",
        " u  |   1 0 0\n",
        " x  |   9 1 0\n",
        " y  |  10 0 1\n",
        "\n"
       ]
      }
     ],
     "prompt_number": 22
    },
    {
     "cell_type": "heading",
     "level": 2,
     "metadata": {},
     "source": [
      "<span style=\"color: rgb(36, 85, 195);\">3. Scaling</span>"
     ]
    },
    {
     "cell_type": "markdown",
     "metadata": {},
     "source": [
      "A scaling transformation transforms a point $(x, y)$ into $(\\alpha x, \\beta y)$, where $\\alpha$ and $\\beta$ are the $x$&mdash; and $y$&mdash;scaling parameters, respectively. Write a procedure ```scale(alpha, beta)``` that takes $x$&mdash; and $y$&mdash;scaling parameters and returns the corresponding $3 \\times 3$ scaling matrix.\n",
      "\n",
      "**input**: scaling parameters for the $x$ and $y$ direction.\n",
      "\n",
      "**output**: corresponding $3 \\times 3$  scaling matrix.\n",
      "\n",
      "**Examples**:\n",
      "    >>> scale(3,4)*Vec({'x','y','u'}, {'x':1,'y':1,'u':1}) == Vec({'x','y','u'}, {'x':3, 'y':4, 'u':1})\n",
      "    True\n",
      "    >>> scale(0,0)*Vec({'x','y','u'}, {'x':1,'y':1,'u':1}) == Vec({'x','y','u'}, {'u':1})\n",
      "    True"
     ]
    },
    {
     "cell_type": "code",
     "collapsed": false,
     "input": [
      "def scale(a, b):\n",
      "    return Mat(({'x','y','u'},{'x','y','u'}), \n",
      "                                   {('x','x'):a, ('y','y'):b, \n",
      "                                    ('u','u'):1})"
     ],
     "language": "python",
     "metadata": {},
     "outputs": [],
     "prompt_number": 28
    },
    {
     "cell_type": "code",
     "collapsed": false,
     "input": [
      "print scale(3,4)"
     ],
     "language": "python",
     "metadata": {},
     "outputs": [
      {
       "output_type": "stream",
       "stream": "stdout",
       "text": [
        "\n",
        "       u x y\n",
        "     -------\n",
        " u  |  1 0 0\n",
        " x  |  0 3 0\n",
        " y  |  0 0 4\n",
        "\n"
       ]
      }
     ],
     "prompt_number": 29
    },
    {
     "cell_type": "heading",
     "level": 2,
     "metadata": {},
     "source": [
      "<span style=\"color: rgb(36, 85, 195);\">4. Rotation</span>"
     ]
    },
    {
     "cell_type": "markdown",
     "metadata": {},
     "source": [
      "![rotacion](rotacion.png)\n",
      "\n",
      "Write a procedure ```rotation(theta)``` that takes an angle in radians and returns the corresponding rotation matrix.\n",
      "\n",
      "**input**: an angle in radians to rotate the coordinates.\n",
      "\n",
      "**output**: corresponding $3 \\times 3$ rotation matrix.\n",
      "\n",
      "**Example**:\n",
      "    >>> def normsq(v): return v*v\n",
      "    >>> normsq(rotation(math.pi) * Vec({'u', 'x', 'y'},{'x':1,'y':2,'u':1}) - Vec({'u', 'x', 'y'},{'u': 1, 'x': -1, 'y': -2})) < 1e-15\n",
      "    True\n",
      "    >>> normsq(rotation(math.pi/2) * Vec({'u', 'x', 'y'},{'x':3,'y':1,'u':1}) - Vec({'u', 'x', 'y'},{'u': 1, 'x': -1, 'y': 3.0})) < 1e-15\n",
      "    True"
     ]
    },
    {
     "cell_type": "code",
     "collapsed": false,
     "input": [
      "def rotation(angle):\n",
      "    return Mat(({'x','y','u'},{'x','y','u'}), \n",
      "                                   {('x','x'):math.cos(angle),\n",
      "                                    ('y','y'):math.cos(angle),\n",
      "                                    ('x','y'):-math.sin(angle),\n",
      "                                    ('y','x'):math.sin(angle),\n",
      "                                    ('u','u'):1})"
     ],
     "language": "python",
     "metadata": {},
     "outputs": [],
     "prompt_number": 42
    },
    {
     "cell_type": "code",
     "collapsed": false,
     "input": [
      "print rotation(math.pi/2)"
     ],
     "language": "python",
     "metadata": {},
     "outputs": [
      {
       "output_type": "stream",
       "stream": "stdout",
       "text": [
        "\n",
        "       u        x        y\n",
        "     ---------------------\n",
        " u  |  1        0        0\n",
        " x  |  0 6.12E-17       -1\n",
        " y  |  0        1 6.12E-17\n",
        "\n"
       ]
      }
     ],
     "prompt_number": 43
    },
    {
     "cell_type": "heading",
     "level": 2,
     "metadata": {},
     "source": [
      "<span style=\"color: rgb(36, 85, 195);\">5. Rotation about a center other than the origin</span>"
     ]
    },
    {
     "cell_type": "markdown",
     "metadata": {},
     "source": [
      "![rotacion](rotacion_about.png)\n",
      "\n",
      "Write a procedure ```rotation_about(theta, x, y)``` that takes three parameters &mdash;an angle ```theta``` in radians, an $x$ coordinate, and a $y$ coordinate&mdash; and returns the matrix that rotates __counterclockwise__ about $(x, y)$ by ```theta```."
     ]
    },
    {
     "cell_type": "code",
     "collapsed": false,
     "input": [
      "def rotate_about(x, y, angle):\n",
      "    # translate from origin * rotate theta * translate to origin\n",
      "    return translation(x,y) * rotation(angle) * translation(-x, -y)"
     ],
     "language": "python",
     "metadata": {},
     "outputs": [],
     "prompt_number": 52
    },
    {
     "cell_type": "code",
     "collapsed": false,
     "input": [
      "print rotate_about(0.5,0,math.pi/4.0)*Vec({'x','y','u'}, {'x':1, 'u':1})"
     ],
     "language": "python",
     "metadata": {},
     "outputs": [
      {
       "output_type": "stream",
       "stream": "stdout",
       "text": [
        "\n",
        " u     x     y\n",
        "--------------\n",
        " 1 0.854 0.354\n"
       ]
      }
     ],
     "prompt_number": 53
    },
    {
     "cell_type": "heading",
     "level": 2,
     "metadata": {},
     "source": [
      "<span style=\"color: rgb(36, 85, 195);\">6. Reflection</span>"
     ]
    },
    {
     "cell_type": "markdown",
     "metadata": {},
     "source": [
      "#### <span style=\"color: #2878A2;\">6.1 reflect_y procedure</span>"
     ]
    },
    {
     "cell_type": "markdown",
     "metadata": {},
     "source": [
      "A reflection about the $y$-axis transforms a point $(x, y)$ into a point $(\u2212x, y)$. Write a ```procedure reflect_y()``` that takes no parameters and returns the matrix which corresponds to a reflection about the $y$ axis.\n",
      "\n",
      "**input**: None.\n",
      "\n",
      "**output**: $3 \\times 3$ y-reflection matrix.\n",
      "\n",
      "**Example**:\n",
      "    >>> v = Vec({'x','y','u'}, {'x':1, 'y':1, 'u':1})\n",
      "    >>> reflect_y()*v == Vec({'x','y','u'}, {'x':-1, 'y':1, 'u':1})\n",
      "    True\n",
      "    >>> w = Vec({'x','y','u'}, {'u':1})\n",
      "    >>> reflect_y()*w == Vec({'x','y','u'},{'u':1})\n",
      "    True"
     ]
    },
    {
     "cell_type": "code",
     "collapsed": false,
     "input": [
      "def reflect_y():\n",
      "    return Mat(({'x','y','u'},{'x','y','u'}), \n",
      "                                   {('x','x'):-1, ('y','y'):1, \n",
      "                                    ('u','u'):1})"
     ],
     "language": "python",
     "metadata": {},
     "outputs": [],
     "prompt_number": 54
    },
    {
     "cell_type": "code",
     "collapsed": false,
     "input": [
      "print reflect_y()"
     ],
     "language": "python",
     "metadata": {},
     "outputs": [
      {
       "output_type": "stream",
       "stream": "stdout",
       "text": [
        "\n",
        "       u  x y\n",
        "     --------\n",
        " u  |  1  0 0\n",
        " x  |  0 -1 0\n",
        " y  |  0  0 1\n",
        "\n"
       ]
      }
     ],
     "prompt_number": 59
    },
    {
     "cell_type": "markdown",
     "metadata": {},
     "source": [
      "#### <span style=\"color: #2878A2;\">6.2 reflect_x procedure</span>"
     ]
    },
    {
     "cell_type": "markdown",
     "metadata": {},
     "source": [
      "A reflection about the $x$-axis transforms a point $(x, y)$ into a point $(x, -y)$. Write a ```procedure reflect_x()``` that takes no parameters and returns the matrix which corresponds to a reflection about the $x$ axis.\n",
      "\n",
      "**inpute**: None.\n",
      "\n",
      "**output**: $3 \\times 3$ $x$-reflection matrix.\n",
      "\n",
      "**Example**:\n",
      "    >>> v = Vec({'x','y','u'}, {'x':1, 'y':1, 'u':1})\n",
      "    >>> reflect_x()*v == Vec({'x','y','u'}, {'x':1, 'y':-1, 'u':1})\n",
      "    True\n",
      "    >>> w = Vec({'x','y','u'}, {'u':1})\n",
      "    >>> reflect_x()*w == Vec({'x','y','u'},{'u':1})\n",
      "    True"
     ]
    },
    {
     "cell_type": "code",
     "collapsed": false,
     "input": [
      "def reflect_x():\n",
      "    return Mat(({'x','y','u'},{'x','y','u'}), \n",
      "                                   {('x','x'):1, ('y','y'):-1, \n",
      "                                    ('u','u'):1})"
     ],
     "language": "python",
     "metadata": {},
     "outputs": [],
     "prompt_number": 60
    },
    {
     "cell_type": "code",
     "collapsed": false,
     "input": [
      "print reflect_x()"
     ],
     "language": "python",
     "metadata": {},
     "outputs": [
      {
       "output_type": "stream",
       "stream": "stdout",
       "text": [
        "\n",
        "       u x  y\n",
        "     --------\n",
        " u  |  1 0  0\n",
        " x  |  0 1  0\n",
        " y  |  0 0 -1\n",
        "\n"
       ]
      }
     ],
     "prompt_number": 65
    },
    {
     "cell_type": "heading",
     "level": 2,
     "metadata": {},
     "source": [
      "<span style=\"color: rgb(36, 85, 195);\">7. Color transformations</span>"
     ]
    },
    {
     "cell_type": "markdown",
     "metadata": {},
     "source": [
      "#### <span style=\"color: #2878A2;\">7.1 scale_color procedure</span>\n",
      "\n",
      "Write a procedure ```scale_color``` that takes r, g, and b scaling parameters and returns the corresponding scaling matrix.\n",
      "\n",
      "**input**: 3 scaling parameters for the colors of the image.\n",
      "\n",
      "**output**: corresponding $3 \\times 3$ color scaling matrix.\n",
      "\n",
      "**Example**:\n",
      "    >>> scale_color(1,2,3)*Vec({'r','g','b'},{'r':1,'g':2,'b':3}) == Vec({'r','g','b'},{'r':1,'g':4,'b':9})\n",
      "    True"
     ]
    },
    {
     "cell_type": "code",
     "collapsed": false,
     "input": [
      "def scale_color(scale_r,scale_g,scale_b):\n",
      "    return Mat(({'r','g','b'},{'r','g','b'}), \n",
      "                                   {('r','r'):scale_r, \n",
      "                                    ('g','g'):scale_g, \n",
      "                                    ('b','b'):scale_b})"
     ],
     "language": "python",
     "metadata": {},
     "outputs": [],
     "prompt_number": 66
    },
    {
     "cell_type": "code",
     "collapsed": false,
     "input": [
      "print scale_color(1,2,3)"
     ],
     "language": "python",
     "metadata": {},
     "outputs": [
      {
       "output_type": "stream",
       "stream": "stdout",
       "text": [
        "\n",
        "       b g r\n",
        "     -------\n",
        " b  |  3 0 0\n",
        " g  |  0 2 0\n",
        " r  |  0 0 1\n",
        "\n"
       ]
      }
     ],
     "prompt_number": 69
    },
    {
     "cell_type": "markdown",
     "metadata": {},
     "source": [
      "#### <span style=\"color: #2878A2;\">7.2 grayscale tranformation</span>\n",
      "\n",
      "Write a procedure ```grayscale()``` that returns a matrix that converts a color image to a grayscale image. Note that both images are still represented in RGB. If a pixel in the original image had the values $r,g,b$ in each of the color channels, then in the grayscale it has te value $\\left\\{ \\frac{77r}{256}, \\frac{151g}{256}, \\frac{28b}{256} \\right\\}$ in all three color channels.\n",
      "\n",
      "**input**: None\n",
      "**output**: $3 \\times 3$ greyscale matrix."
     ]
    },
    {
     "cell_type": "code",
     "collapsed": false,
     "input": [
      "def grayscale():\n",
      "    labels = {'r','g','b'}\n",
      "    vals = {'r':77/256.0 ,'g':151/256.0 ,'b':28/256.0}\n",
      "    return Mat((labels,labels), \n",
      "               {(k1,k2):vals[k2] for k1 in labels for k2 in labels})"
     ],
     "language": "python",
     "metadata": {},
     "outputs": [],
     "prompt_number": 73
    },
    {
     "cell_type": "code",
     "collapsed": false,
     "input": [
      "print grayscale()"
     ],
     "language": "python",
     "metadata": {},
     "outputs": [
      {
       "output_type": "stream",
       "stream": "stdout",
       "text": [
        "\n",
        "           b    g     r\n",
        "     ------------------\n",
        " b  |  0.109 0.59 0.301\n",
        " g  |  0.109 0.59 0.301\n",
        " r  |  0.109 0.59 0.301\n",
        "\n"
       ]
      }
     ],
     "prompt_number": 74
    },
    {
     "cell_type": "heading",
     "level": 2,
     "metadata": {},
     "source": [
      "<span style=\"color: rgb(36, 85, 195);\">8. Reflection more generally</span>"
     ]
    },
    {
     "cell_type": "markdown",
     "metadata": {},
     "source": [
      "Write a procedure ```reflect_about(x1,y1, x2,y2)``` that takes two points and returns the matrix that reflects about the line defined by the two points.\n",
      "\n",
      "**input**: 2 points that define a line to reflect about.\n",
      "\n",
      "**output**: corresponding $3 \\times 3$ reflect about matrix.\n",
      "\n",
      "**Example**:\n",
      "    >>> def normsq(v): return v*v\n",
      "    >>> normsq(reflect_about(0,1,1,1) * Vec({'x','y','u'}, {'u':1}) - Vec({'x', 'u', 'y'},{'x': 0.0, 'u': 1, 'y': 2.0})) < 10e-15\n",
      "    True\n",
      "    >>> normsq(reflect_about(0,0,1,1) * Vec({'x','y','u'}, {'x':1, 'u':1}) - Vec({'x', 'u', 'y'},{'u': 1, 'y': 1})) < 1e-15\n",
      "    True"
     ]
    },
    {
     "cell_type": "code",
     "collapsed": false,
     "input": [
      "def reflect_about(x1, y1, x2, y2):\n",
      "    "
     ],
     "language": "python",
     "metadata": {},
     "outputs": []
    },
    {
     "cell_type": "code",
     "collapsed": false,
     "input": [],
     "language": "python",
     "metadata": {},
     "outputs": []
    },
    {
     "cell_type": "code",
     "collapsed": false,
     "input": [],
     "language": "python",
     "metadata": {},
     "outputs": []
    }
   ],
   "metadata": {}
  }
 ]
}