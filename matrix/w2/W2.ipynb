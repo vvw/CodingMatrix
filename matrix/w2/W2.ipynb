{
 "metadata": {
  "name": "",
  "signature": "sha256:f842d013aee7ecb8ee9dbcd70a296019b2d11bad98d5deefac574e405dcc3381"
 },
 "nbformat": 3,
 "nbformat_minor": 0,
 "worksheets": [
  {
   "cells": [
    {
     "cell_type": "code",
     "collapsed": false,
     "input": [
      "from vec import Vec"
     ],
     "language": "python",
     "metadata": {},
     "outputs": [],
     "prompt_number": 1
    },
    {
     "cell_type": "code",
     "collapsed": false,
     "input": [
      "def vec_select(veclist, k):\n",
      "    '''\n",
      "    >>> D = {'a','b','c'}\n",
      "    >>> v1 = Vec(D, {'a': 1})\n",
      "    >>> v2 = Vec(D, {'a': 0, 'b': 1})\n",
      "    >>> v3 = Vec(D, {        'b': 2})\n",
      "    >>> v4 = Vec(D, {'a': 10, 'b': 10})\n",
      "    >>> vec_select([v1, v2, v3, v4], 'a') == [Vec(D,{'b': 1}), Vec(D,{'b': 2})]\n",
      "    True\n",
      "    '''\n",
      "    return [v for v in veclist if v.f.get(k, 0) == 0]"
     ],
     "language": "python",
     "metadata": {},
     "outputs": [],
     "prompt_number": 5
    },
    {
     "cell_type": "code",
     "collapsed": false,
     "input": [
      "D = {'a','b','c'}\n",
      "v1 = Vec(D, {'a': 1})\n",
      "v2 = Vec(D, {'a': 0, 'b': 1})\n",
      "v3 = Vec(D, {        'b': 2})\n",
      "v4 = Vec(D, {'a': 10, 'b': 10})\n",
      "vec_select([v1, v2, v3, v4], 'a') == [Vec(D,{'b': 1}), Vec(D,{'b': 2})]\n",
      "#True"
     ],
     "language": "python",
     "metadata": {},
     "outputs": [
      {
       "metadata": {},
       "output_type": "pyout",
       "prompt_number": 6,
       "text": [
        "True"
       ]
      }
     ],
     "prompt_number": 6
    },
    {
     "cell_type": "code",
     "collapsed": false,
     "input": [],
     "language": "python",
     "metadata": {},
     "outputs": []
    },
    {
     "cell_type": "code",
     "collapsed": false,
     "input": [],
     "language": "python",
     "metadata": {},
     "outputs": []
    },
    {
     "cell_type": "code",
     "collapsed": false,
     "input": [
      "def vec_sum(veclist, D):\n",
      "    '''\n",
      "    >>> D = {'a','b','c'}\n",
      "    >>> v1 = Vec(D, {'a': 1})\n",
      "    >>> v2 = Vec(D, {'a': 0, 'b': 1})\n",
      "    >>> v3 = Vec(D, {        'b': 2})\n",
      "    >>> v4 = Vec(D, {'a': 10, 'b': 10})\n",
      "    >>> vec_sum([v1, v2, v3, v4], D) == Vec(D, {'b': 13, 'a': 11})\n",
      "    True\n",
      "    '''\n",
      "    return sum( veclist, Vec(D, dict()) )"
     ],
     "language": "python",
     "metadata": {},
     "outputs": [],
     "prompt_number": 25
    },
    {
     "cell_type": "code",
     "collapsed": false,
     "input": [
      "D = {'a','b','c'}\n",
      "v1 = Vec(D, {'a': 1})\n",
      "v2 = Vec(D, {'a': 0, 'b': 1})\n",
      "v3 = Vec(D, {        'b': 2})\n",
      "v4 = Vec(D, {'a': 10, 'b': 10})\n",
      "vec_sum([v1, v2, v3, v4], D) == Vec(D, {'b': 13, 'a': 11})\n",
      "# True"
     ],
     "language": "python",
     "metadata": {},
     "outputs": [
      {
       "metadata": {},
       "output_type": "pyout",
       "prompt_number": 26,
       "text": [
        "True"
       ]
      }
     ],
     "prompt_number": 26
    },
    {
     "cell_type": "code",
     "collapsed": false,
     "input": [],
     "language": "python",
     "metadata": {},
     "outputs": []
    },
    {
     "cell_type": "code",
     "collapsed": false,
     "input": [],
     "language": "python",
     "metadata": {},
     "outputs": []
    },
    {
     "cell_type": "code",
     "collapsed": false,
     "input": [
      "def vec_select_sum(veclist, k, D):\n",
      "    '''\n",
      "    >>> D = {'a','b','c'}\n",
      "    >>> v1 = Vec(D, {'a': 1})\n",
      "    >>> v2 = Vec(D, {'a': 0, 'b': 1})\n",
      "    >>> v3 = Vec(D, {        'b': 2})\n",
      "    >>> v4 = Vec(D, {'a': 10, 'b': 10})\n",
      "    >>> vec_select_sum([v1, v2, v3, v4], 'a', D) == Vec(D, {'b': 3})\n",
      "    True\n",
      "    '''\n",
      "    return vec_sum(vec_select(veclist, k), D)"
     ],
     "language": "python",
     "metadata": {},
     "outputs": [],
     "prompt_number": 27
    },
    {
     "cell_type": "code",
     "collapsed": false,
     "input": [
      "D = {'a','b','c'}\n",
      "v1 = Vec(D, {'a': 1})\n",
      "v2 = Vec(D, {'a': 0, 'b': 1})\n",
      "v3 = Vec(D, {        'b': 2})\n",
      "v4 = Vec(D, {'a': 10, 'b': 10})\n",
      "vec_select_sum([v1, v2, v3, v4], 'a', D) == Vec(D, {'b': 3})\n",
      "# True"
     ],
     "language": "python",
     "metadata": {},
     "outputs": [
      {
       "metadata": {},
       "output_type": "pyout",
       "prompt_number": 28,
       "text": [
        "True"
       ]
      }
     ],
     "prompt_number": 28
    },
    {
     "cell_type": "code",
     "collapsed": false,
     "input": [],
     "language": "python",
     "metadata": {},
     "outputs": []
    },
    {
     "cell_type": "code",
     "collapsed": false,
     "input": [],
     "language": "python",
     "metadata": {},
     "outputs": []
    },
    {
     "cell_type": "code",
     "collapsed": false,
     "input": [
      "def scale_vecs(vecdict):\n",
      "    '''\n",
      "    >>> v1 = Vec({1,2,4}, {2: 9})\n",
      "    >>> v2 = Vec({1,2,4}, {1: 1, 2: 2, 4: 8})\n",
      "    >>> result = scale_vecs({3: v1, 5: v2})\n",
      "    >>> len(result)\n",
      "    2\n",
      "    >>> [v in [Vec({1,2,4},{2: 3.0}), Vec({1,2,4},{1: 0.2, 2: 0.4, 4: 1.6})] for v in result]\n",
      "    [True, True]\n",
      "    '''\n",
      "    return [ (1/float(k)) * vecdict[k] for k in vecdict]"
     ],
     "language": "python",
     "metadata": {},
     "outputs": [],
     "prompt_number": 29
    },
    {
     "cell_type": "code",
     "collapsed": false,
     "input": [
      "v1 = Vec({1,2,4}, {2: 9})\n",
      "v2 = Vec({1,2,4}, {1: 1, 2: 2, 4: 8})\n",
      "result = scale_vecs({3: v1, 5: v2})\n",
      "print len(result)\n",
      "# 2\n",
      "print [v in [Vec({1,2,4},{2: 3.0}), Vec({1,2,4},{1: 0.2, 2: 0.4, 4: 1.6})] for v in result]\n",
      "# [True, True]"
     ],
     "language": "python",
     "metadata": {},
     "outputs": [
      {
       "output_type": "stream",
       "stream": "stdout",
       "text": [
        "2\n",
        "[True, True]\n"
       ]
      }
     ],
     "prompt_number": 30
    },
    {
     "cell_type": "code",
     "collapsed": false,
     "input": [],
     "language": "python",
     "metadata": {},
     "outputs": []
    },
    {
     "cell_type": "code",
     "collapsed": false,
     "input": [],
     "language": "python",
     "metadata": {},
     "outputs": []
    },
    {
     "cell_type": "code",
     "collapsed": false,
     "input": [
      "from GF2 import one"
     ],
     "language": "python",
     "metadata": {},
     "outputs": [],
     "prompt_number": 2
    },
    {
     "cell_type": "code",
     "collapsed": false,
     "input": [
      "def GF2_span(D, S):\n",
      "    '''\n",
      "    >>> from GF2 import one\n",
      "    >>> D = {'a', 'b', 'c'}\n",
      "    >>> GF2_span(D, {Vec(D, {'a':one, 'c':one}), Vec(D, {'c':one})}) == {Vec({'a', 'b', 'c'},{}), Vec({'a', 'b', 'c'},{'a': one, 'c': one}), Vec({'a', 'b', 'c'},{'c': one}), Vec({'a', 'b', 'c'},{'a': one})}\n",
      "    True\n",
      "    >>> GF2_span(D, {Vec(D, {'a': one, 'b': one}), Vec(D, {'a':one}), Vec(D, {'b':one})}) == {Vec({'a', 'b', 'c'},{'a': one, 'b': one}), Vec({'a', 'b', 'c'},{'b': one}), Vec({'a', 'b', 'c'},{'a': one}), Vec({'a', 'b', 'c'},{})}\n",
      "    True\n",
      "    >>> S={Vec({0,1},{0:one}), Vec({0,1},{1:one})}\n",
      "    >>> GF2_span({0,1}, S) == {Vec({0, 1},{0: one, 1: one}), Vec({0, 1},{1: one}), Vec({0, 1},{0: one}), Vec({0, 1},{})}\n",
      "    True\n",
      "    >>> S == {Vec({0, 1},{1: one}), Vec({0, 1},{0: one})}\n",
      "    True\n",
      "    '''\n",
      "    mystr = '{0:' + str(len(S)) + 'b}'\n",
      "    coefs = [ [{'0': 0, '1': one}[n] for n in num] for num in [mystr.format(i).replace(' ', '0') for i in range(2**len(S))] ]\n",
      "    slc = { sum(c * v for (c, v) in zip(coef, S)) for coef in coefs}\n",
      "    return slc"
     ],
     "language": "python",
     "metadata": {},
     "outputs": [],
     "prompt_number": 3
    },
    {
     "cell_type": "code",
     "collapsed": false,
     "input": [
      "D = {'a', 'b', 'c'}\n",
      "GF2_span(D, {Vec(D, {'a':one, 'c':one}), Vec(D, {'c':one})})"
     ],
     "language": "python",
     "metadata": {},
     "outputs": [
      {
       "metadata": {},
       "output_type": "pyout",
       "prompt_number": 4,
       "text": [
        "{Vec(set(['a', 'c', 'b']),{'a': one, 'c': one}),\n",
        " Vec(set(['a', 'c', 'b']),{}),\n",
        " Vec(set(['a', 'c', 'b']),{'a': one, 'c': 0}),\n",
        " Vec(set(['a', 'c', 'b']),{'c': one})}"
       ]
      }
     ],
     "prompt_number": 4
    },
    {
     "cell_type": "code",
     "collapsed": false,
     "input": [
      "GF2_span(D, {Vec(D, {'a':one, 'c':one}), Vec(D, {'c':one}),  Vec(D, {'c':one, 'b': one})})"
     ],
     "language": "python",
     "metadata": {},
     "outputs": [
      {
       "metadata": {},
       "output_type": "pyout",
       "prompt_number": 5,
       "text": [
        "{Vec(set(['a', 'c', 'b']),{'c': one, 'b': one}),\n",
        " Vec(set(['a', 'c', 'b']),{'c': 0, 'b': one}),\n",
        " Vec(set(['a', 'c', 'b']),{'c': one}),\n",
        " Vec(set(['a', 'c', 'b']),{'a': one, 'c': one, 'b': one}),\n",
        " Vec(set(['a', 'c', 'b']),{'a': one, 'c': 0}),\n",
        " Vec(set(['a', 'c', 'b']),{'a': one, 'c': one}),\n",
        " Vec(set(['a', 'c', 'b']),{}),\n",
        " Vec(set(['a', 'c', 'b']),{'a': one, 'c': 0, 'b': one})}"
       ]
      }
     ],
     "prompt_number": 5
    },
    {
     "cell_type": "code",
     "collapsed": false,
     "input": [
      "GF2_span(D, {Vec(D, {'a':one, 'c':one}), Vec(D, {'c':one}),  Vec(D, {'c':one, 'b': one}), Vec(D, {'b':one})})"
     ],
     "language": "python",
     "metadata": {},
     "outputs": [
      {
       "metadata": {},
       "output_type": "pyout",
       "prompt_number": 6,
       "text": [
        "{Vec(set(['a', 'c', 'b']),{'a': one, 'c': one}),\n",
        " Vec(set(['a', 'c', 'b']),{'c': one}),\n",
        " Vec(set(['a', 'c', 'b']),{}),\n",
        " Vec(set(['a', 'c', 'b']),{'a': one, 'c': one, 'b': one}),\n",
        " Vec(set(['a', 'c', 'b']),{'b': one}),\n",
        " Vec(set(['a', 'c', 'b']),{'a': one, 'c': 0}),\n",
        " Vec(set(['a', 'c', 'b']),{'a': one, 'c': 0, 'b': one}),\n",
        " Vec(set(['a', 'c', 'b']),{'c': one, 'b': one})}"
       ]
      }
     ],
     "prompt_number": 6
    },
    {
     "cell_type": "code",
     "collapsed": false,
     "input": [
      "D = {'a', 'b', 'c'}\n",
      "GF2_span(D, {Vec(D, {'a':one, 'c':one}), Vec(D, {'c':one})}) == {Vec({'a', 'b', 'c'},{}), Vec({'a', 'b', 'c'},{'a': one, 'c': one}), Vec({'a', 'b', 'c'},{'c': one}), Vec({'a', 'b', 'c'},{'a': one})}\n",
      "# True"
     ],
     "language": "python",
     "metadata": {},
     "outputs": [
      {
       "metadata": {},
       "output_type": "pyout",
       "prompt_number": 7,
       "text": [
        "True"
       ]
      }
     ],
     "prompt_number": 7
    },
    {
     "cell_type": "code",
     "collapsed": false,
     "input": [
      "GF2_span(D, {Vec(D, {'a': one, 'b': one}), Vec(D, {'a':one}), Vec(D, {'b':one})}) == {Vec({'a', 'b', 'c'},{'a': one, 'b': one}), Vec({'a', 'b', 'c'},{'b': one}), Vec({'a', 'b', 'c'},{'a': one}), Vec({'a', 'b', 'c'},{})}\n",
      "# True"
     ],
     "language": "python",
     "metadata": {},
     "outputs": [
      {
       "metadata": {},
       "output_type": "pyout",
       "prompt_number": 8,
       "text": [
        "True"
       ]
      }
     ],
     "prompt_number": 8
    },
    {
     "cell_type": "code",
     "collapsed": false,
     "input": [
      "S={Vec({0,1},{0:one}), Vec({0,1},{1:one})}\n",
      "GF2_span({0,1}, S) == {Vec({0, 1},{0: one, 1: one}), Vec({0, 1},{1: one}), Vec({0, 1},{0: one}), Vec({0, 1},{})}\n",
      "# True    "
     ],
     "language": "python",
     "metadata": {},
     "outputs": [
      {
       "metadata": {},
       "output_type": "pyout",
       "prompt_number": 9,
       "text": [
        "True"
       ]
      }
     ],
     "prompt_number": 9
    },
    {
     "cell_type": "code",
     "collapsed": false,
     "input": [
      "S == {Vec({0, 1},{1: one}), Vec({0, 1},{0: one})}\n",
      "# True"
     ],
     "language": "python",
     "metadata": {},
     "outputs": [
      {
       "metadata": {},
       "output_type": "pyout",
       "prompt_number": 10,
       "text": [
        "True"
       ]
      }
     ],
     "prompt_number": 10
    }
   ],
   "metadata": {}
  }
 ]
}