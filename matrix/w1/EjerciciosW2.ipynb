{
 "metadata": {
  "name": "",
  "signature": "sha256:33ec57467a324af069a75650e4bf55fd60e537c291345066fee39527a56c3126"
 },
 "nbformat": 3,
 "nbformat_minor": 0,
 "worksheets": [
  {
   "cells": [
    {
     "cell_type": "code",
     "collapsed": false,
     "input": [
      "from vec import Vec"
     ],
     "language": "python",
     "metadata": {},
     "outputs": [],
     "prompt_number": 3
    },
    {
     "cell_type": "code",
     "collapsed": false,
     "input": [
      "def equal(u,v):\n",
      "    \"\"\"\n",
      "    Return true iff u is equal to v.\n",
      "    Because of sparse representation, it is not enough to compare dictionaries\n",
      "\n",
      "    >>> Vec({'a', 'b', 'c'}, {'a':0}) == Vec({'a', 'b', 'c'}, {'b':0})\n",
      "    True\n",
      "\n",
      "    Be sure that equal(u, v) check equalities for all keys from u.f and v.f even if\n",
      "    some keys in u.f do not exist in v.f (or vice versa)\n",
      "\n",
      "    >>> Vec({'x','y','z'},{'y':1,'x':2}) == Vec({'x','y','z'},{'y':1,'z':0})\n",
      "    False\n",
      "    >>> Vec({'a','b','c'}, {'a':0,'c':1}) == Vec({'a','b','c'}, {'a':0,'c':1,'b':4})\n",
      "    False\n",
      "    >>> Vec({'a','b','c'}, {'a':0,'c':1,'b':4}) == Vec({'a','b','c'}, {'a':0,'c':1})\n",
      "    False\n",
      "\n",
      "    The keys matter:\n",
      "    >>> Vec({'a','b'},{'a':1}) == Vec({'a','b'},{'b':1})\n",
      "    False\n",
      "\n",
      "    The values matter:\n",
      "    >>> Vec({'a','b'},{'a':1}) == Vec({'a','b'},{'a':2})\n",
      "    False\n",
      "\n",
      "    \"\"\"\n",
      "    assert u.D == v.D\n",
      "    intersec = set(u.f.keys()) & set(v.f.keys())\n",
      "    for key in intersec:\n",
      "        if u.f[key] != v.f[key]:\n",
      "            return False\n",
      "    for key in set(u.f.keys()) - intersec:\n",
      "        if u.f[key] != 0:\n",
      "            return False\n",
      "    for key in set(v.f.keys()) - intersec:\n",
      "        if v.f[key] != 0:\n",
      "            return False\n",
      "    return True"
     ],
     "language": "python",
     "metadata": {},
     "outputs": [],
     "prompt_number": 110
    },
    {
     "cell_type": "code",
     "collapsed": false,
     "input": [
      "#True\n",
      "a = Vec({'a', 'b', 'c'}, {'a':0})\n",
      "b = Vec({'a', 'b', 'c'}, {'b':0})\n",
      "equal(a, b)"
     ],
     "language": "python",
     "metadata": {},
     "outputs": [
      {
       "metadata": {},
       "output_type": "pyout",
       "prompt_number": 111,
       "text": [
        "True"
       ]
      }
     ],
     "prompt_number": 111
    },
    {
     "cell_type": "code",
     "collapsed": false,
     "input": [
      "#False\n",
      "a = Vec({'x','y','z'},{'y':1,'x':2})\n",
      "b = Vec({'x','y','z'},{'y':1,'z':0})\n",
      "equal(a, b)"
     ],
     "language": "python",
     "metadata": {},
     "outputs": [
      {
       "metadata": {},
       "output_type": "pyout",
       "prompt_number": 112,
       "text": [
        "False"
       ]
      }
     ],
     "prompt_number": 112
    },
    {
     "cell_type": "code",
     "collapsed": false,
     "input": [
      "#False\n",
      "a = Vec({'a','b','c'}, {'a':0,'c':1,'b':4})\n",
      "b = Vec({'a','b','c'}, {'a':0,'c':1})\n",
      "equal(a, b)"
     ],
     "language": "python",
     "metadata": {},
     "outputs": [
      {
       "metadata": {},
       "output_type": "pyout",
       "prompt_number": 113,
       "text": [
        "False"
       ]
      }
     ],
     "prompt_number": 113
    },
    {
     "cell_type": "code",
     "collapsed": false,
     "input": [
      "#False\n",
      "a = Vec({'a','b','c'}, {'a':0,'c':1,'b':4})\n",
      "b = Vec({'a','b','c'}, {'a':0,'c':1})\n",
      "equal(a, b)"
     ],
     "language": "python",
     "metadata": {},
     "outputs": [
      {
       "metadata": {},
       "output_type": "pyout",
       "prompt_number": 114,
       "text": [
        "False"
       ]
      }
     ],
     "prompt_number": 114
    },
    {
     "cell_type": "code",
     "collapsed": false,
     "input": [
      "dict1 = {'a': 1, 'b': 2, 'c': 3}\n",
      "dict2 = {'c': 1, 'b': 21, 'd': 3}\n",
      "dict3 = {'a': 1, 'b': 2, 'c': 3, 'd': 5}"
     ],
     "language": "python",
     "metadata": {},
     "outputs": [],
     "prompt_number": 115
    },
    {
     "cell_type": "code",
     "collapsed": false,
     "input": [
      "def add(u,v):\n",
      "    \"\"\"\n",
      "    Returns the sum of the two vectors.\n",
      "    Make sure to add together values for all keys from u.f and v.f even if some keys in u.f do not\n",
      "    exist in v.f (or vice versa)\n",
      "\n",
      "    >>> a = Vec({'a','e','i','o','u'}, {'a':0,'e':1,'i':2})\n",
      "    >>> b = Vec({'a','e','i','o','u'}, {'o':4,'u':7})\n",
      "    >>> c = Vec({'a','e','i','o','u'}, {'a':0,'e':1,'i':2,'o':4,'u':7})\n",
      "    >>> a + b == c\n",
      "    True\n",
      "    >>> a == Vec({'a','e','i','o','u'}, {'a':0,'e':1,'i':2})\n",
      "    True\n",
      "    >>> b == Vec({'a','e','i','o','u'}, {'o':4,'u':7})\n",
      "    True\n",
      "    >>> d = Vec({'x','y','z'}, {'x':2,'y':1})\n",
      "    >>> e = Vec({'x','y','z'}, {'z':4,'y':-1})\n",
      "    >>> f = Vec({'x','y','z'}, {'x':2,'y':0,'z':4})\n",
      "    >>> d + e == f\n",
      "    True\n",
      "    >>> b + Vec({'a','e','i','o','u'}, {}) == b\n",
      "    True\n",
      "    \"\"\"\n",
      "    assert u.D == v.D\n",
      "    new_dict = u.f.copy()\n",
      "    for key in v.f:\n",
      "        new_dict.setdefault(key, 0)\n",
      "        new_dict[key] += v.f[key]\n",
      "    return Vec(u.D, new_dict)"
     ],
     "language": "python",
     "metadata": {},
     "outputs": [],
     "prompt_number": 116
    },
    {
     "cell_type": "code",
     "collapsed": false,
     "input": [
      "a = Vec({'a','e','i','o','u'}, {'a':0,'e':1,'i':2})\n",
      "b = Vec({'a','e','i','o','u'}, {'o':4,'u':7})\n",
      "c = Vec({'a','e','i','o','u'}, {'a':0,'e':1,'i':2,'o':4,'u':7})"
     ],
     "language": "python",
     "metadata": {},
     "outputs": [],
     "prompt_number": 117
    },
    {
     "cell_type": "code",
     "collapsed": false,
     "input": [
      "add(a, b) == c"
     ],
     "language": "python",
     "metadata": {},
     "outputs": [
      {
       "metadata": {},
       "output_type": "pyout",
       "prompt_number": 118,
       "text": [
        "True"
       ]
      }
     ],
     "prompt_number": 118
    },
    {
     "cell_type": "code",
     "collapsed": false,
     "input": [
      "a == Vec({'a','e','i','o','u'}, {'a':0,'e':1,'i':2})"
     ],
     "language": "python",
     "metadata": {},
     "outputs": [
      {
       "metadata": {},
       "output_type": "pyout",
       "prompt_number": 119,
       "text": [
        "True"
       ]
      }
     ],
     "prompt_number": 119
    },
    {
     "cell_type": "code",
     "collapsed": false,
     "input": [
      "b == Vec({'a','e','i','o','u'}, {'o':4,'u':7})"
     ],
     "language": "python",
     "metadata": {},
     "outputs": [
      {
       "metadata": {},
       "output_type": "pyout",
       "prompt_number": 120,
       "text": [
        "True"
       ]
      }
     ],
     "prompt_number": 120
    },
    {
     "cell_type": "code",
     "collapsed": false,
     "input": [
      "d = Vec({'x','y','z'}, {'x':2,'y':1})\n",
      "e = Vec({'x','y','z'}, {'z':4,'y':-1})\n",
      "f = Vec({'x','y','z'}, {'x':2,'y':0,'z':4})\n",
      "add(d, e) == f"
     ],
     "language": "python",
     "metadata": {},
     "outputs": [
      {
       "metadata": {},
       "output_type": "pyout",
       "prompt_number": 121,
       "text": [
        "True"
       ]
      }
     ],
     "prompt_number": 121
    },
    {
     "cell_type": "code",
     "collapsed": false,
     "input": [
      "equal(add(b, Vec({'a','e','i','o','u'}, {})), b)"
     ],
     "language": "python",
     "metadata": {},
     "outputs": [
      {
       "metadata": {},
       "output_type": "pyout",
       "prompt_number": 122,
       "text": [
        "True"
       ]
      }
     ],
     "prompt_number": 122
    },
    {
     "cell_type": "code",
     "collapsed": false,
     "input": [
      "b"
     ],
     "language": "python",
     "metadata": {},
     "outputs": [
      {
       "metadata": {},
       "output_type": "pyout",
       "prompt_number": 123,
       "text": [
        "Vec(set(['i', 'e', 'u', 'a', 'o']),{'u': 7, 'o': 4})"
       ]
      }
     ],
     "prompt_number": 123
    },
    {
     "cell_type": "code",
     "collapsed": false,
     "input": [
      "from imp import reload\n",
      "import politics_lab as pl"
     ],
     "language": "python",
     "metadata": {},
     "outputs": [],
     "prompt_number": 9
    },
    {
     "cell_type": "code",
     "collapsed": false,
     "input": [
      "reload(pl)"
     ],
     "language": "python",
     "metadata": {},
     "outputs": [
      {
       "metadata": {},
       "output_type": "pyout",
       "prompt_number": 11,
       "text": [
        "<module 'politics_lab' from 'politics_lab.pyc'>"
       ]
      }
     ],
     "prompt_number": 11
    },
    {
     "cell_type": "code",
     "collapsed": false,
     "input": [
      "def most_similar(sen, voting_dict):\n",
      "    \"\"\"\n",
      "    Input: the last name of a senator, and a dictionary mapping senator names\n",
      "           to lists representing their voting records.\n",
      "    Output: the last name of the senator whose political mindset is most\n",
      "            like the input senator (excluding, of course, the input senator\n",
      "            him/herself). Resolve ties arbitrarily.\n",
      "    Example:\n",
      "        >>> vd = {'Klein': [1,1,1], 'Fox-Epstein': [1,-1,0], 'Ravella': [-1,0,0]}\n",
      "        >>> most_similar('Klein', vd)\n",
      "        'Fox-Epstein'\n",
      "\n",
      "    Note that you can (and are encouraged to) re-use you policy_compare procedure.\n",
      "    \"\"\"\n",
      "    similarity = -float('infinity')\n",
      "    name = ''\n",
      "    for sen_name in voting_dict:\n",
      "        if sen_name != sen:\n",
      "            val = pl.policy_compare(sen, sen_name, voting_dict)\n",
      "            if similarity < val:\n",
      "                similarity = val\n",
      "                name = sen_name\n",
      "    return name"
     ],
     "language": "python",
     "metadata": {},
     "outputs": [],
     "prompt_number": 22
    },
    {
     "cell_type": "code",
     "collapsed": false,
     "input": [
      "vd = {'Klein': [1,1,1], 'Fox-Epstein': [1,-1,0], 'Ravella': [-1,0,0]}"
     ],
     "language": "python",
     "metadata": {},
     "outputs": [],
     "prompt_number": 23
    },
    {
     "cell_type": "code",
     "collapsed": false,
     "input": [
      "most_similar('Klein', vd)"
     ],
     "language": "python",
     "metadata": {},
     "outputs": [
      {
       "output_type": "stream",
       "stream": "stdout",
       "text": [
        "Fox-Epstein\n",
        "Fox-Epstein\n",
        "Ravella\n",
        "Ravella\n",
        "Klein\n"
       ]
      },
      {
       "metadata": {},
       "output_type": "pyout",
       "prompt_number": 24,
       "text": [
        "'Fox-Epstein'"
       ]
      }
     ],
     "prompt_number": 24
    },
    {
     "cell_type": "code",
     "collapsed": false,
     "input": [],
     "language": "python",
     "metadata": {},
     "outputs": []
    }
   ],
   "metadata": {}
  }
 ]
}