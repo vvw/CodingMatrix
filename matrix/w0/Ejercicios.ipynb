{
 "metadata": {
  "name": "",
  "signature": "sha256:9e0b1ecefa1c1d542e6e59d642e9acd50f333e0c18274b98fc0963096174ddf0"
 },
 "nbformat": 3,
 "nbformat_minor": 0,
 "worksheets": [
  {
   "cells": [
    {
     "cell_type": "markdown",
     "metadata": {},
     "source": [
      "## 1"
     ]
    },
    {
     "cell_type": "code",
     "collapsed": false,
     "input": [
      "def makeInverseIndex(strlist):\n",
      "    inverse_dict = {}\n",
      "    for (idx, text) in enumerate(strlist):\n",
      "        for word in set(text.split()):\n",
      "            if word not in inverse_dict:\n",
      "                inverse_dict[word] = set()\n",
      "            inverse_dict[word].add(idx)\n",
      "    return inverse_dict"
     ],
     "language": "python",
     "metadata": {},
     "outputs": [],
     "prompt_number": 18
    },
    {
     "cell_type": "code",
     "collapsed": false,
     "input": [
      "makeInverseIndex(['hello world','hello','hello cat','hellolot of cats'])"
     ],
     "language": "python",
     "metadata": {},
     "outputs": [
      {
       "metadata": {},
       "output_type": "pyout",
       "prompt_number": 19,
       "text": [
        "{'cat': {2},\n",
        " 'cats': {3},\n",
        " 'hello': {0, 1, 2},\n",
        " 'hellolot': {3},\n",
        " 'of': {3},\n",
        " 'world': {0}}"
       ]
      }
     ],
     "prompt_number": 19
    },
    {
     "cell_type": "code",
     "collapsed": false,
     "input": [
      "makeInverseIndex(['hello world','hello','hello cat','hellolot of cats']) == {'hello': {0, 1, 2}, 'cat': {2}, 'of': {3}, 'world': {0}, 'cats': {3}, 'hellolot': {3}}"
     ],
     "language": "python",
     "metadata": {},
     "outputs": [
      {
       "metadata": {},
       "output_type": "pyout",
       "prompt_number": 20,
       "text": [
        "True"
       ]
      }
     ],
     "prompt_number": 20
    },
    {
     "cell_type": "markdown",
     "metadata": {},
     "source": [
      "## 2"
     ]
    },
    {
     "cell_type": "code",
     "collapsed": false,
     "input": [
      "def orSearch(inverseIndex, query):\n",
      "    doc_ids = set()\n",
      "    for word in query:\n",
      "        if word in inverseIndex:\n",
      "            doc_ids.update(inverseIndex[word])\n",
      "    return doc_ids"
     ],
     "language": "python",
     "metadata": {},
     "outputs": [],
     "prompt_number": 30
    },
    {
     "cell_type": "code",
     "collapsed": false,
     "input": [
      "idx = makeInverseIndex(['Johann Sebastian Bach', 'Johannes Brahms', 'Johann Strauss the Younger', 'Johann Strauss the Elder', ' Johann Christian Bach',  'Carl Philipp Emanuel Bach'])"
     ],
     "language": "python",
     "metadata": {},
     "outputs": [],
     "prompt_number": 31
    },
    {
     "cell_type": "code",
     "collapsed": false,
     "input": [
      "idx"
     ],
     "language": "python",
     "metadata": {},
     "outputs": [
      {
       "metadata": {},
       "output_type": "pyout",
       "prompt_number": 32,
       "text": [
        "{'Bach': {0, 4, 5},\n",
        " 'Brahms': {1},\n",
        " 'Carl': {5},\n",
        " 'Christian': {4},\n",
        " 'Elder': {3},\n",
        " 'Emanuel': {5},\n",
        " 'Johann': {0, 2, 3, 4},\n",
        " 'Johannes': {1},\n",
        " 'Philipp': {5},\n",
        " 'Sebastian': {0},\n",
        " 'Strauss': {2, 3},\n",
        " 'Younger': {2},\n",
        " 'the': {2, 3}}"
       ]
      }
     ],
     "prompt_number": 32
    },
    {
     "cell_type": "code",
     "collapsed": false,
     "input": [
      "orSearch(idx, ['Bach','the'])"
     ],
     "language": "python",
     "metadata": {},
     "outputs": [
      {
       "metadata": {},
       "output_type": "pyout",
       "prompt_number": 33,
       "text": [
        "{0, 2, 3, 4, 5}"
       ]
      }
     ],
     "prompt_number": 33
    },
    {
     "cell_type": "code",
     "collapsed": false,
     "input": [
      "orSearch(idx, ['Johann', 'Carl'])"
     ],
     "language": "python",
     "metadata": {},
     "outputs": [
      {
       "metadata": {},
       "output_type": "pyout",
       "prompt_number": 34,
       "text": [
        "{0, 2, 3, 4, 5}"
       ]
      }
     ],
     "prompt_number": 34
    },
    {
     "cell_type": "markdown",
     "metadata": {},
     "source": [
      "## 3"
     ]
    },
    {
     "cell_type": "code",
     "collapsed": false,
     "input": [
      "def andSearch(inverseIndex, query):\n",
      "    doc_ids = set()\n",
      "    for word in query:\n",
      "        if word in inverseIndex:\n",
      "            doc_ids.update(inverseIndex[word]) if len(doc_ids) == 0 else doc_ids.intersection_update(inverseIndex[word])\n",
      "    return doc_ids"
     ],
     "language": "python",
     "metadata": {},
     "outputs": [],
     "prompt_number": 50
    },
    {
     "cell_type": "code",
     "collapsed": false,
     "input": [
      "idx = makeInverseIndex(['Johann Sebastian Bach', 'Johannes Brahms', 'Johann Strauss the Younger', 'Johann Strauss the Elder', ' Johann Christian Bach',  'Carl Philipp Emanuel Bach'])"
     ],
     "language": "python",
     "metadata": {},
     "outputs": [],
     "prompt_number": 51
    },
    {
     "cell_type": "code",
     "collapsed": false,
     "input": [
      "idx"
     ],
     "language": "python",
     "metadata": {},
     "outputs": [
      {
       "metadata": {},
       "output_type": "pyout",
       "prompt_number": 52,
       "text": [
        "{'Bach': {0, 4, 5},\n",
        " 'Brahms': {1},\n",
        " 'Carl': {5},\n",
        " 'Christian': {4},\n",
        " 'Elder': {3},\n",
        " 'Emanuel': {5},\n",
        " 'Johann': {0, 2, 3, 4},\n",
        " 'Johannes': {1},\n",
        " 'Philipp': {5},\n",
        " 'Sebastian': {0},\n",
        " 'Strauss': {2, 3},\n",
        " 'Younger': {2},\n",
        " 'the': {2, 3}}"
       ]
      }
     ],
     "prompt_number": 52
    },
    {
     "cell_type": "code",
     "collapsed": false,
     "input": [
      "andSearch(idx, ['Johann', 'the'])"
     ],
     "language": "python",
     "metadata": {},
     "outputs": [
      {
       "metadata": {},
       "output_type": "pyout",
       "prompt_number": 53,
       "text": [
        "{2, 3}"
       ]
      }
     ],
     "prompt_number": 53
    },
    {
     "cell_type": "code",
     "collapsed": false,
     "input": [
      "andSearch(idx, ['Johann', 'Bach'])"
     ],
     "language": "python",
     "metadata": {},
     "outputs": [
      {
       "metadata": {},
       "output_type": "pyout",
       "prompt_number": 54,
       "text": [
        "{0, 4}"
       ]
      }
     ],
     "prompt_number": 54
    },
    {
     "cell_type": "markdown",
     "metadata": {},
     "source": [
      "## Function problems"
     ]
    },
    {
     "cell_type": "code",
     "collapsed": false,
     "input": [
      "def tuple_sum(A, B):\n",
      "    '''\n",
      "    Input:\n",
      "      -A: a list of tuples\n",
      "      -B: a list of tuples\n",
      "    Output:\n",
      "      -list of pairs (x,y) in which the first element of the\n",
      "      ith pair is the sum of the first element of the ith pair in\n",
      "      A and the first element of the ith pair in B\n",
      "    Examples:\n",
      "    >>> tuple_sum([(1,2), (10,20)],[(3,4), (30,40)])\n",
      "    [(4, 6), (40, 60)]\n",
      "    '''\n",
      "    return [(a1+b1, a2+b2) for ((a1,a2), (b1,b2)) in zip(A, B)]"
     ],
     "language": "python",
     "metadata": {},
     "outputs": [],
     "prompt_number": 7
    },
    {
     "cell_type": "code",
     "collapsed": false,
     "input": [
      "tuple_sum([(1,2), (10,20)],[(3,4), (30,40)])"
     ],
     "language": "python",
     "metadata": {},
     "outputs": [
      {
       "metadata": {},
       "output_type": "pyout",
       "prompt_number": 8,
       "text": [
        "[(4, 6), (40, 60)]"
       ]
      }
     ],
     "prompt_number": 8
    },
    {
     "cell_type": "code",
     "collapsed": false,
     "input": [
      "def inv_dict(d):\n",
      "    '''\n",
      "    Input:\n",
      "      -d: dictionary representing an invertible function f\n",
      "    Output:\n",
      "      -dictionary representing the inverse of f, the returned dictionary's\n",
      "       keys are the values of d and its values are the keys of d\n",
      "    Examples:\n",
      "    >>> inv_dict({'goodbye':  'au revoir', 'thank you': 'merci'})\n",
      "    {'merci':'thank you', 'au revoir':'goodbye'}]\n",
      "    '''\n",
      "    return { value:key for (key, value) in d.items()}"
     ],
     "language": "python",
     "metadata": {},
     "outputs": [],
     "prompt_number": 10
    },
    {
     "cell_type": "code",
     "collapsed": false,
     "input": [
      "inv_dict({'goodbye':  'au revoir', 'thank you': 'merci'})"
     ],
     "language": "python",
     "metadata": {},
     "outputs": [
      {
       "metadata": {},
       "output_type": "pyout",
       "prompt_number": 11,
       "text": [
        "{'au revoir': 'goodbye', 'merci': 'thank you'}"
       ]
      }
     ],
     "prompt_number": 11
    },
    {
     "cell_type": "code",
     "collapsed": false,
     "input": [
      "def row(p, n):\n",
      "    '''\n",
      "    Input:\n",
      "      -p: a number\n",
      "      -n: a number\n",
      "    Output:\n",
      "      - n-element list such that element i is p+i\n",
      "    Examples:\n",
      "    >>> row(10,4)\n",
      "    [10, 11, 12, 13]\n",
      "    '''\n",
      "    return [p+i for i in range(n)]"
     ],
     "language": "python",
     "metadata": {},
     "outputs": [],
     "prompt_number": 14
    },
    {
     "cell_type": "code",
     "collapsed": false,
     "input": [
      "row(10,4)"
     ],
     "language": "python",
     "metadata": {},
     "outputs": [
      {
       "metadata": {},
       "output_type": "pyout",
       "prompt_number": 15,
       "text": [
        "[10, 11, 12, 13]"
       ]
      }
     ],
     "prompt_number": 15
    },
    {
     "cell_type": "code",
     "collapsed": false,
     "input": [
      "a = [ row(i, 20) for i in range(15) ]"
     ],
     "language": "python",
     "metadata": {},
     "outputs": [],
     "prompt_number": 17
    },
    {
     "cell_type": "code",
     "collapsed": false,
     "input": [
      "a[4][17]"
     ],
     "language": "python",
     "metadata": {},
     "outputs": [
      {
       "metadata": {},
       "output_type": "pyout",
       "prompt_number": 20,
       "text": [
        "21"
       ]
      }
     ],
     "prompt_number": 20
    },
    {
     "cell_type": "code",
     "collapsed": false,
     "input": [
      "z = [ [p+i for i in range(20)] for p in range(15) ]"
     ],
     "language": "python",
     "metadata": {},
     "outputs": [],
     "prompt_number": 21
    },
    {
     "cell_type": "code",
     "collapsed": false,
     "input": [
      "a == z"
     ],
     "language": "python",
     "metadata": {},
     "outputs": [
      {
       "metadata": {},
       "output_type": "pyout",
       "prompt_number": 22,
       "text": [
        "True"
       ]
      }
     ],
     "prompt_number": 22
    },
    {
     "cell_type": "code",
     "collapsed": false,
     "input": [
      "7%3"
     ],
     "language": "python",
     "metadata": {},
     "outputs": [
      {
       "metadata": {},
       "output_type": "pyout",
       "prompt_number": 23,
       "text": [
        "1"
       ]
      }
     ],
     "prompt_number": 23
    },
    {
     "cell_type": "markdown",
     "metadata": {},
     "source": [
      "## The field"
     ]
    },
    {
     "cell_type": "code",
     "collapsed": false,
     "input": [
      "def myFilter(L, num):\n",
      "    '''\n",
      "    Input:\n",
      "      -L: a list of numbers\n",
      "      -num: a positive integer\n",
      "    Output:\n",
      "      -a list of numbers not containing a multiple of num\n",
      "    Examples:\n",
      "      >>> myFilter([1,2,4,5,7],2)\n",
      "      [1, 5, 7]\n",
      "      >>> myFilter([10,15,20,25],10)\n",
      "      [15, 25]\n",
      "    '''\n",
      "    return [x for x in L if x%num != 0]\n"
     ],
     "language": "python",
     "metadata": {},
     "outputs": [],
     "prompt_number": 27
    },
    {
     "cell_type": "code",
     "collapsed": false,
     "input": [
      "myFilter([1,2,4,5,7],2)"
     ],
     "language": "python",
     "metadata": {},
     "outputs": [
      {
       "metadata": {},
       "output_type": "pyout",
       "prompt_number": 28,
       "text": [
        "[1, 5, 7]"
       ]
      }
     ],
     "prompt_number": 28
    },
    {
     "cell_type": "code",
     "collapsed": false,
     "input": [
      "myFilter([10,15,20,25],10)"
     ],
     "language": "python",
     "metadata": {},
     "outputs": [
      {
       "metadata": {},
       "output_type": "pyout",
       "prompt_number": 29,
       "text": [
        "[15, 25]"
       ]
      }
     ],
     "prompt_number": 29
    },
    {
     "cell_type": "code",
     "collapsed": false,
     "input": [
      "def my_lists(L):\n",
      "    '''\n",
      "    >>> my_lists([1,2,4])\n",
      "    [[1], [1, 2], [1, 2, 3, 4]]\n",
      "    >>> my_lists([0,3])\n",
      "    [[], [1, 2, 3]]\n",
      "    '''\n",
      "    res_list = []\n",
      "    for num in L:\n",
      "        if num==0:\n",
      "            res_list.append([])\n",
      "        else:\n",
      "            res_list.append([i+1 for i in range(num)])\n",
      "    return res_list"
     ],
     "language": "python",
     "metadata": {},
     "outputs": [],
     "prompt_number": 36
    },
    {
     "cell_type": "code",
     "collapsed": false,
     "input": [
      "my_lists([1,2,4])"
     ],
     "language": "python",
     "metadata": {},
     "outputs": [
      {
       "metadata": {},
       "output_type": "pyout",
       "prompt_number": 40,
       "text": [
        "[[1], [1, 2], [1, 2, 3, 4]]"
       ]
      }
     ],
     "prompt_number": 40
    },
    {
     "cell_type": "code",
     "collapsed": false,
     "input": [
      "my_lists([0,3])"
     ],
     "language": "python",
     "metadata": {},
     "outputs": [
      {
       "metadata": {},
       "output_type": "pyout",
       "prompt_number": 41,
       "text": [
        "[[], [1, 2, 3]]"
       ]
      }
     ],
     "prompt_number": 41
    },
    {
     "cell_type": "code",
     "collapsed": false,
     "input": [
      "def my_lists(L):\n",
      "    '''\n",
      "    >>> my_lists([1,2,4])\n",
      "    [[1], [1, 2], [1, 2, 3, 4]]\n",
      "    >>> my_lists([0,3])\n",
      "    [[], [1, 2, 3]]\n",
      "    '''\n",
      "    return [ ([] if num==0 else [i+1 for i in range(num)]) for num in L ]"
     ],
     "language": "python",
     "metadata": {},
     "outputs": [],
     "prompt_number": 39
    },
    {
     "cell_type": "code",
     "collapsed": false,
     "input": [
      "def myFunctionComposition(f, g):\n",
      "    '''\n",
      "    Input:\n",
      "      -f: a function represented as a dictionary such that g of f exists\n",
      "      -g: a function represented as a dictionary such that g of f exists\n",
      "    Output:\n",
      "      -a dictionary that represents a function g of f\n",
      "    Examples:\n",
      "      >>> f = {0:'a',1:'b'}\n",
      "      >>> g = {'a':'apple','b':'banana'}\n",
      "      >>> myFunctionComposition(f,g) == {0:'apple',1:'banana'}\n",
      "      True\n",
      "\n",
      "      >>> a = {'x':24,'y':25}\n",
      "      >>> b = {24:'twentyfour',25:'twentyfive'}\n",
      "      >>> myFunctionComposition(a,b) == {'x':'twentyfour','y':'twentyfive'}\n",
      "      True\n",
      "    '''\n",
      "    return { fkey:g[f[fkey]] for fkey in f }"
     ],
     "language": "python",
     "metadata": {},
     "outputs": [],
     "prompt_number": 48
    },
    {
     "cell_type": "code",
     "collapsed": false,
     "input": [
      "f = {0:'a',1:'b'}\n",
      "g = {'a':'apple','b':'banana'}\n",
      "print myFunctionComposition(f,g) == {0:'apple',1:'banana'}\n",
      "myFunctionComposition(f,g)"
     ],
     "language": "python",
     "metadata": {},
     "outputs": [
      {
       "output_type": "stream",
       "stream": "stdout",
       "text": [
        "True\n"
       ]
      },
      {
       "metadata": {},
       "output_type": "pyout",
       "prompt_number": 49,
       "text": [
        "{0: 'apple', 1: 'banana'}"
       ]
      }
     ],
     "prompt_number": 49
    },
    {
     "cell_type": "code",
     "collapsed": false,
     "input": [
      "a = {'x':24,'y':25}\n",
      "b = {24:'twentyfour',25:'twentyfive'}\n",
      "print myFunctionComposition(a,b) == {'x':'twentyfour','y':'twentyfive'}\n",
      "myFunctionComposition(a,b)"
     ],
     "language": "python",
     "metadata": {},
     "outputs": [
      {
       "output_type": "stream",
       "stream": "stdout",
       "text": [
        "True\n"
       ]
      },
      {
       "metadata": {},
       "output_type": "pyout",
       "prompt_number": 50,
       "text": [
        "{'x': 'twentyfour', 'y': 'twentyfive'}"
       ]
      }
     ],
     "prompt_number": 50
    },
    {
     "cell_type": "code",
     "collapsed": false,
     "input": [
      "[i for i in g]"
     ],
     "language": "python",
     "metadata": {},
     "outputs": [
      {
       "metadata": {},
       "output_type": "pyout",
       "prompt_number": 47,
       "text": [
        "['a', 'b']"
       ]
      }
     ],
     "prompt_number": 47
    },
    {
     "cell_type": "code",
     "collapsed": false,
     "input": [
      "from math import e, pi"
     ],
     "language": "python",
     "metadata": {},
     "outputs": [],
     "prompt_number": 53
    },
    {
     "cell_type": "code",
     "collapsed": false,
     "input": [
      "e**(pi*1j)"
     ],
     "language": "python",
     "metadata": {},
     "outputs": [
      {
       "metadata": {},
       "output_type": "pyout",
       "prompt_number": 55,
       "text": [
        "(-1+1.2246467991473532e-16j)"
       ]
      }
     ],
     "prompt_number": 55
    },
    {
     "cell_type": "code",
     "collapsed": false,
     "input": [],
     "language": "python",
     "metadata": {},
     "outputs": []
    }
   ],
   "metadata": {}
  }
 ]
}