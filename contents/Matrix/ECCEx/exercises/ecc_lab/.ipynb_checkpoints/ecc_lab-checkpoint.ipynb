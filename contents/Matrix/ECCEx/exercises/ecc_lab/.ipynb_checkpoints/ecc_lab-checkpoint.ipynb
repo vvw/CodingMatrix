{
 "metadata": {
  "name": "",
  "signature": "sha256:da58583eedb980394580c5b21a2d1293b04054ad3a84197e35c6632dc287a503"
 },
 "nbformat": 3,
 "nbformat_minor": 0,
 "worksheets": [
  {
   "cells": [
    {
     "cell_type": "heading",
     "level": 1,
     "metadata": {},
     "source": [
      "<span style=\"color: rgb(36, 85, 195);\">Error-correcting codes (err)</span>"
     ]
    },
    {
     "cell_type": "markdown",
     "metadata": {},
     "source": [
      "### <span style=\"color: #2878A2;\">_About err_</span>\n",
      "\n",
      "* Originally inspired by errors in reading programs on punched cards.\n",
      "* Now used in __WiFi__, cell phones, communication with __Satellites__ and spacecraft, digital television, __RAM__, disk drives, __flash memory__, CDs, and DVDs.\n",
      "\n",
      "___Hamming___ code is a __linear binary block code__:\n",
      "\n",
      "* _linear_, because it is based on linear algebra\n",
      "* _binary_, because the input and the output are assumed to be in binary, and\n",
      "* _block_ because the code involves a fixed-length sequence bits.\n",
      "\n",
      "### <span style=\"color: #2878A2;\">_How does it works_</span>\n",
      "\n",
      "![How does err works](err.png)\n",
      "\n",
      "To protect an 4-bit block:\n",
      "\n",
      "* Sender encodes 4-bit block $\\mathbf{p}$ as a 7-bit block $\\mathbf{c}$\n",
      "* Sender transmit $\\mathbf{c}$\n",
      "* $\\mathbf{c}$ passes through noisy channel &mdash;errors might be introduced\n",
      "* Receiver receives 7-bit block $\\overset{\\sim}{\\mathbf{c}}$\n",
      "* Receiver tries to figure out original 4-bit block\n",
      "\n",
      "The 7-bit encodings are called ___codewords__. $\\mathcal{C}$ = set of permited codewords\n",
      "\n",
      "### <span style=\"color: #2878A2;\">_To have in mind_</span>\n",
      "\n",
      "Hamming's first code is a liner code:\n",
      "\n",
      "* Represent 4-bit and 7-bit blocks as vectors over __GF(2)__\n",
      "* 7-bit block received if $\\overset{\\sim}{\\mathbf{c}} = \\mathbf{c} + \\mathbf{e}$\n",
      "* $e$ has 1's in positions where it differs from $\\mathbf{c}$, whre noisy channel flipped a bit. $\\mathbf{e}$ is the __error vector__\n",
      "* __Key idea__: set $\\mathcal{C}$ of codewords is the _Null_ space of a matrix $H$. This makes the Receiver's job easier\n",
      "* Matrix $H$ is called the __check matrix__\n",
      "\n",
      "### <span style=\"color: #2878A2;\">_Receiver's job_</span>\n",
      "\n",
      "1. Receiver has $\\overset{\\sim}{\\mathbf{c}}$, and need to figure out $\\mathbf{e}$\n",
      "2. Receiver multiplies $\\overset{\\sim}{\\mathbf{c}}$ by $H$, and by the previous assumptions: $$H * \\overset{\\sim}{\\mathbf{c}} = H * (\\mathbf{c}+\\mathbf{e}) = H*\\mathbf{c} + H*\\mathbf{e} = \\mathbf{0} + H*\\mathbf{e} = H*\\mathbf{e}$$\n",
      "3. Receiver must calculate $\\mathbf{e}$ from the value of $H*\\mathbf{e}$\n",
      "\n",
      "The vector received from $H * \\overset{\\sim}{\\mathbf{c}}$ is called the ___error syndrome___"
     ]
    },
    {
     "cell_type": "heading",
     "level": 2,
     "metadata": {},
     "source": [
      "<span style=\"color: rgb(36, 85, 195);\">0. Helper functions</span>"
     ]
    },
    {
     "cell_type": "markdown",
     "metadata": {},
     "source": [
      "#### <span style=\"color: #2878A2;\">0.1 Imports</span>"
     ]
    },
    {
     "cell_type": "code",
     "collapsed": false,
     "input": [
      "from vec import Vec\n",
      "from GF2 import zero, one\n",
      "from mat import Mat\n",
      "from matutil import listlist2mat, mat2coldict, coldict2mat\n",
      "from bitutil import bits2str, str2bits, bits2mat, mat2bits, noise"
     ],
     "language": "python",
     "metadata": {},
     "outputs": [],
     "prompt_number": 1
    },
    {
     "cell_type": "heading",
     "level": 2,
     "metadata": {},
     "source": [
      "<span style=\"color: rgb(36, 85, 195);\">1. The generator matrix</span>"
     ]
    },
    {
     "cell_type": "markdown",
     "metadata": {},
     "source": [
      "We have characterized the vector space $\\mathcal{C}$ as the null space of the check matrix $H$. There is another way to specify a vector space: in terms of ___generators___. The generator matrix for a linear code is a matrix $G$ whose columns are generators for the set $\\mathcal{C}$ of codewords.\n",
      "\n",
      "By the linear-combinations definition of matrix-vector multiplication, every matrix-vector product $G \u2217 \\mathbf{p}$ is a linear combination of the columns of $G$, and is therefore a __codeword__."
     ]
    },
    {
     "cell_type": "markdown",
     "metadata": {},
     "source": [
      "#### <span style=\"color: #2878A2;\">1.1 Hamming's code. Matrix $G$</span>\n",
      "\n",
      "Hamming discovered a code in which a four-bit message is represented by a seven-bit codeword. The generator matrix $G$ is:"
     ]
    },
    {
     "cell_type": "code",
     "collapsed": false,
     "input": [
      "G_as_list=[[one,0,one,one],\n",
      "           [one,one,0,one],\n",
      "           [0,0,0,one],\n",
      "           [one,one,one,0],\n",
      "           [0,0,one,0],\n",
      "           [0,one,0,0],\n",
      "           [one,0,0,0]]\n",
      "G = listlist2mat(G_as_list)\n",
      "print G"
     ],
     "language": "python",
     "metadata": {},
     "outputs": [
      {
       "output_type": "stream",
       "stream": "stdout",
       "text": [
        "\n",
        "         0   1   2   3\n",
        "     -----------------\n",
        " 0  |  one   0 one one\n",
        " 1  |  one one   0 one\n",
        " 2  |    0   0   0 one\n",
        " 3  |  one one one   0\n",
        " 4  |    0   0 one   0\n",
        " 5  |    0 one   0   0\n",
        " 6  |  one   0   0   0\n",
        "\n"
       ]
      }
     ],
     "prompt_number": 2
    },
    {
     "cell_type": "markdown",
     "metadata": {},
     "source": [
      "A four-bit message is represented by a 4-vector $\\mathbf{p}$ over GF(2). The encoding of \\mathbf{p} is the 7-vector resulting from the matrix-vector product $G \u2217 \\mathbf{p}$.\n",
      "\n",
      "Let $f_G$ be the encoding function, the function defined by $f_G(x) = G \u2217 \\mathbf{p}$. The image of $f_G$, the set of all codewords, is the __row space__ of $G$."
     ]
    },
    {
     "cell_type": "markdown",
     "metadata": {},
     "source": [
      "#### <span style=\"color: #2878A2;\">1.2 What is the encoding of the message [1, 0, 0, 1]?</span>"
     ]
    },
    {
     "cell_type": "code",
     "collapsed": false,
     "input": [
      "# writing [1,0,0,1] vector over GF(2)\n",
      "p = Vec({0,1,2,3}, {0:one, 3:one})\n",
      "\n",
      "# obtaining the codeword\n",
      "c = G * p\n",
      "print c"
     ],
     "language": "python",
     "metadata": {},
     "outputs": [
      {
       "output_type": "stream",
       "stream": "stdout",
       "text": [
        "\n",
        " 0 1   2   3 4 5   6\n",
        "--------------------\n",
        " 0 0 one one 0 0 one\n"
       ]
      }
     ],
     "prompt_number": 3
    },
    {
     "cell_type": "heading",
     "level": 2,
     "metadata": {},
     "source": [
      "<span style=\"color: rgb(36, 85, 195);\">2. Decoding</span>"
     ]
    },
    {
     "cell_type": "markdown",
     "metadata": {},
     "source": [
      "#### <span style=\"color: #2878A2;\">2.1 Decoding matrix $R$</span>\n",
      "\n",
      "Construct a $4 \\times 7$ matrix $R$ such that, for any codeword $\\mathbf{c}$, the matrix-vector product $R \u2217 \\mathbf{c}$ equals the 4-vector whose encoding is $\\mathbf{c}$; i.e. $\\mathbf{p} = R * \\mathbf{c}$\n",
      "\n",
      "[Here is the $R$ determination illustrated](decodingmatrix.pdf)"
     ]
    },
    {
     "cell_type": "code",
     "collapsed": false,
     "input": [
      "# using the from function to matrix procedure\n",
      "# from \"Matrices and their functions\"\n",
      "R_as_list = [[0,0,0,0,0,0,one],\n",
      "             [0,0,0,0,0,one,0],\n",
      "             [0,0,0,0,one,0,0],\n",
      "             [0,0,one,0,0,0,0]]\n",
      "R = listlist2mat(R_as_list)\n",
      "print R"
     ],
     "language": "python",
     "metadata": {},
     "outputs": [
      {
       "output_type": "stream",
       "stream": "stdout",
       "text": [
        "\n",
        "       0 1   2 3   4   5   6\n",
        "     -----------------------\n",
        " 0  |  0 0   0 0   0   0 one\n",
        " 1  |  0 0   0 0   0 one   0\n",
        " 2  |  0 0   0 0 one   0   0\n",
        " 3  |  0 0 one 0   0   0   0\n",
        "\n"
       ]
      }
     ],
     "prompt_number": 4
    },
    {
     "cell_type": "code",
     "collapsed": false,
     "input": [
      "# quick comprobation\n",
      "print 'p == R * c:', p == R * c\n",
      "print R * c"
     ],
     "language": "python",
     "metadata": {},
     "outputs": [
      {
       "output_type": "stream",
       "stream": "stdout",
       "text": [
        "p == R * c: True\n",
        "\n",
        "   0 1 2   3\n",
        "------------\n",
        " one 0 0 one\n"
       ]
      }
     ],
     "prompt_number": 5
    },
    {
     "cell_type": "heading",
     "level": 2,
     "metadata": {},
     "source": [
      "<span style=\"color: rgb(36, 85, 195);\">3. Error syndrome</span>"
     ]
    },
    {
     "cell_type": "markdown",
     "metadata": {},
     "source": [
      "Suppose Alice sends the codeword $\\mathbf{c}$ across the noisy channel. Let $\\overset{\\sim}{\\mathbf{c}}$ be the vector received by Bob. To reflect the fact that $\\overset{\\sim}{\\mathbf{c}}$ might differ from $\\mathbf{c}$, we write\n",
      "$$\\overset{\\sim}{\\mathbf{c}} = \\mathbf{c} + \\mathbf{e}$$\n",
      "where $\\mathbf{e}$ is the error vector, the vector with ones in the corrupted positions."
     ]
    },
    {
     "cell_type": "markdown",
     "metadata": {},
     "source": [
      "#### <span style=\"color: #2878A2;\">3.1 Check matrix $H$</span>\n",
      "\n",
      "If Bob can figure out the error vector $\\mathbf{e}$, he can recover the codeword $\\mathbf{c}$ and therefore the original message. As a first step towards figuring out the error vector, Bob computes the __error syndrome__, the vector $H \u2217 \\overset{\\sim}{\\mathbf{c}}$, which equals $H \u2217 \\mathbf{e}$. So Bob needs the __check matrix__ $H$, which for the Hamming code is:"
     ]
    },
    {
     "cell_type": "code",
     "collapsed": false,
     "input": [
      "H_as_list = [[0,0,0,one,one,one,one],\n",
      "             [0,one,one,0,0,one,one],\n",
      "             [one,0,one,0,one,0,one]]\n",
      "H = listlist2mat(H_as_list)\n",
      "print H"
     ],
     "language": "python",
     "metadata": {},
     "outputs": [
      {
       "output_type": "stream",
       "stream": "stdout",
       "text": [
        "\n",
        "         0   1   2   3   4   5   6\n",
        "     -----------------------------\n",
        " 0  |    0   0   0 one one one one\n",
        " 1  |    0 one one   0   0 one one\n",
        " 2  |  one   0 one   0 one   0 one\n",
        "\n"
       ]
      }
     ],
     "prompt_number": 6
    },
    {
     "cell_type": "markdown",
     "metadata": {},
     "source": [
      "Define the function $f_H$ by $f_H(\\mathbf{y}) = H \u2217 \\mathbf{y}$. The image under $f_H$ of any codeword $\\mathbf{c}$ is the zero vector."
     ]
    },
    {
     "cell_type": "heading",
     "level": 2,
     "metadata": {},
     "source": [
      "<span style=\"color: rgb(36, 85, 195);\">4. Finding the error</span>"
     ]
    },
    {
     "cell_type": "markdown",
     "metadata": {},
     "source": [
      "Bob assumes that __at most one bit__ of the codeword __is corrupted__, so at most one bit of $\\mathbf{e}$ is nonzero, say the bit in position $i \\in \\{1, 2, \\ldots , 7\\}$. In this case, what is the value of $H \u2217 \\mathbf{e}$?"
     ]
    },
    {
     "cell_type": "markdown",
     "metadata": {},
     "source": [
      "#### <span style=\"color: #2878A2;\">4.1 find_error function</span>\n",
      "\n",
      "Takes an error syndrome and returns the corresponding error\n",
      "vector $\\mathbf{e}$\n",
      "\n",
      "**input**: an error syndrome as an instance of Vec\n",
      "\n",
      "**output**: the corresponding error vector $\\mathbf{e}$\n",
      "\n",
      "**Example**:\n",
      "\n",
      "    >>> find_error(Vec({0,1,2}, {0:one})) == Vec({0, 1, 2, 3, 4, 5, 6},{3: one})\n",
      "    True\n",
      "    >>> find_error(Vec({0,1,2}, {2:one})) == Vec({0, 1, 2, 3, 4, 5, 6},{0: one})\n",
      "    True\n",
      "    >>> find_error(Vec({0,1,2}, {1:one, 2:one})) == Vec({0, 1, 2, 3, 4, 5, 6},{2: one})   \n",
      "    True\n",
      "    >>> find_error(Vec({0,1,2}, {})) == Vec({0,1,2,3,4,5,6}, {})\n",
      "    True"
     ]
    },
    {
     "cell_type": "code",
     "collapsed": false,
     "input": [
      "def find_error(syndrome):\n",
      "    f = lambda x: {0:4, 1:2, 2:1}[x]\n",
      "    posval = sum(f(x) for x in syndrome.f if syndrome.f[x] == one)\n",
      "    return Vec({0,1,2,3,4,5,6}, {(posval-1): one} if posval > 0 else {})"
     ],
     "language": "python",
     "metadata": {},
     "outputs": [],
     "prompt_number": 7
    },
    {
     "cell_type": "markdown",
     "metadata": {},
     "source": [
      "#### <span style=\"color: #2878A2;\">4.2 Decoding a syndrome</span>\n",
      "\n",
      "Imagine that you are Bob, and you have received the non-codeword $\\overset{\\sim}{\\mathbf{c}}= [1, 0, 1, 1, 0, 1, 1]$. Your goal is to derive the original 4-bit message that Alice intended to send. To do this, use find_error to figure out the corresponding error vector $\\mathbf{e}$, and then add $\\mathbf{e}$ to $\\overset{\\sim}{\\mathbf{c}}$ to obtain the correct codeword $\\mathbf{c}$. Finally, use the\n",
      "matrix $R$ to derive the original 4-vector $\\mathbf{p}$; $\\mathbf{p} = R * \\mathbf{c}$."
     ]
    },
    {
     "cell_type": "code",
     "collapsed": false,
     "input": [
      "# receibed message\n",
      "cc = Vec({0,1,2,3,4,5,6}, {0:one, 2:one, 3:one, 5:one, 6:one})\n",
      "# calculating the syndrome H * cc\n",
      "syndrome = H * cc\n",
      "# using find_error to determine e based on the syndrom\n",
      "e = find_error(syndrome)\n",
      "print e"
     ],
     "language": "python",
     "metadata": {},
     "outputs": [
      {
       "output_type": "stream",
       "stream": "stdout",
       "text": [
        "\n",
        " 0 1 2 3 4 5   6\n",
        "----------------\n",
        " 0 0 0 0 0 0 one\n"
       ]
      }
     ],
     "prompt_number": 8
    },
    {
     "cell_type": "code",
     "collapsed": false,
     "input": [
      "# codeword c = cc - e, but in GF(2) c = cc + e\n",
      "c = cc + e\n",
      "print c"
     ],
     "language": "python",
     "metadata": {},
     "outputs": [
      {
       "output_type": "stream",
       "stream": "stdout",
       "text": [
        "\n",
        "   0 1   2   3 4   5 6\n",
        "----------------------\n",
        " one 0 one one 0 one 0\n"
       ]
      }
     ],
     "prompt_number": 9
    },
    {
     "cell_type": "code",
     "collapsed": false,
     "input": [
      "# decoding the codeword p = R * c\n",
      "p = R * c\n",
      "print p"
     ],
     "language": "python",
     "metadata": {},
     "outputs": [
      {
       "output_type": "stream",
       "stream": "stdout",
       "text": [
        "\n",
        " 0   1 2   3\n",
        "------------\n",
        " 0 one 0 one\n"
       ]
      }
     ],
     "prompt_number": 10
    },
    {
     "cell_type": "markdown",
     "metadata": {},
     "source": [
      "#### <span style=\"color: #2878A2;\">4.3 find_error_matrix function</span>\n",
      "\n",
      "One-line procedure\n",
      "\n",
      "**input**: a matrix $S$ whose columns are error syndroms\n",
      "\n",
      "**output**: a matrix whose $c^{th}$ column is the error corresponding to the $c^{th}$ column of $S$\n",
      "\n",
      "**Example**:\n",
      "    >>> S = listlist2mat([[0,one,one,one],[0,one,0,0],[0,0,0,one]])\n",
      "    >>> find_error_matrix(S) == Mat(({0, 1, 2, 3, 4, 5, 6}, {0, 1, 2, 3}), {(1, 3): 0, (3, 0): 0, (2, 1): 0, (6, 2): 0, (5, 1): one, (0, 3): 0, (4, 0): 0, (1, 2): 0, (3, 3): 0, (6, 3): 0, (5, 0): 0, (2, 2): 0, (4, 1): 0, (1, 1): 0, (3, 2): one, (0, 0): 0, (6, 0): 0, (2, 3): 0, (4, 2): 0, (1, 0): 0, (5, 3): 0, (0, 1): 0, (6, 1): 0, (3, 1): 0, (2, 0): 0, (4, 3): one, (5, 2): 0, (0, 2): 0})\n",
      "    True"
     ]
    },
    {
     "cell_type": "code",
     "collapsed": false,
     "input": [
      "def find_error_matrix(S):\n",
      "    return coldict2mat({key:find_error(val) for key, val in mat2coldict(S).items()})"
     ],
     "language": "python",
     "metadata": {},
     "outputs": [],
     "prompt_number": 11
    },
    {
     "cell_type": "heading",
     "level": 2,
     "metadata": {},
     "source": [
      "<span style=\"color: rgb(36, 85, 195);\">5. Putting it all together</span>"
     ]
    },
    {
     "cell_type": "markdown",
     "metadata": {},
     "source": [
      "We will now encode an entire string and will try to protect it against errors. We first have to learn a little about representing a text as a matrix of bits. Characters are represented using a variable-length encoding scheme called UTF-8. Each character is represented by some number of bytes. You can find the __value of a character__ c using ```ord(c)```.\n",
      "\n",
      "You can obtain the __character from__ a numerical __value__ using ```chr(i)```.\n",
      "\n",
      "We have provided a module __bitutil__ that defines some procedures for converting between lists of GF (2) values, matrices over GF (2), and strings. Two such procedures are ```str2bits(str)``` and ```bits2str(L)```:\n",
      "\n",
      "The procedure __```str2bits(str)```__ has the following spec:\n",
      "\n",
      "* _input_: a string\n",
      "* _output_: a list of GF (2) values (0 and one) representing the string\n",
      "\n",
      "The procedure __```bits2str(L)```__ is the inverse procedure:\n",
      "\n",
      "* _input_: a list of GF (2) values\n",
      "* _output_: the corresponding string\n",
      "\n",
      "### <span style=\"color: #2878A2;\">Hamming code operation</span>\n",
      "\n",
      "The Hamming code operates on four bits at a time. A four-bit sequence is called a ___nibble___ (sometimes nybble). To encode a list of bits (such as that produced by ```str2bits```), we break the list into nibbles and encode each nibble separately.\n",
      "\n",
      "To transform each nibble, we interpret the nibble as a 4-vector and we multiply it by the generating matrix $G$. One strategy is to convert the list of bits into a list of 4-vectors, and then use, say, a comprehension to multiply each vector in that list by $G$.\n",
      "\n",
      "In keeping with our current interest in matrices, we will instead convert the list of bits into a matrix $B$ __each column__ of which is __a 4-vector representing a nibble__. Thus a sequence of $4n$ bits is represented by a $4 \\times n$ matrix $P$. The module bitutil defines a procedure __```bits2mat(bits)```__ that transforms a list of bits into such a matrix, and a procedure __```mat2bits(A)```__ that transforms such a matrix $A$ back into a list of bits."
     ]
    },
    {
     "cell_type": "markdown",
     "metadata": {},
     "source": [
      "#### <span style=\"color: #2878A2;\">5.1 Converting original message</span>\n",
      "\n",
      "Compute the matrix $P$ which represents the string:"
     ]
    },
    {
     "cell_type": "code",
     "collapsed": false,
     "input": [
      "message = \"I'm trying to free your mind, Neo. But I can only show you the door. You're the one that has to walk through it.\""
     ],
     "language": "python",
     "metadata": {},
     "outputs": [],
     "prompt_number": 12
    },
    {
     "cell_type": "code",
     "collapsed": false,
     "input": [
      "# convert string to bits\n",
      "msgbits = str2bits(message)\n",
      "# create the matrix from the bits\n",
      "P = bits2mat(msgbits)"
     ],
     "language": "python",
     "metadata": {},
     "outputs": [],
     "prompt_number": 13
    },
    {
     "cell_type": "markdown",
     "metadata": {},
     "source": [
      "#### <span style=\"color: #2878A2;\">5.2 Encoding the message</span>\n",
      "\n",
      "Encode the words represented by the columns of the matrix $P$, obtaining a matrix $C$. You should not use any loops or comprehensions to compute $C$ from $P$."
     ]
    },
    {
     "cell_type": "code",
     "collapsed": false,
     "input": [
      "C = G * P"
     ],
     "language": "python",
     "metadata": {},
     "outputs": [],
     "prompt_number": 14
    },
    {
     "cell_type": "markdown",
     "metadata": {},
     "source": [
      "#### <span style=\"color: #2878A2;\">5.3 Decoding the message - correct function</span>\n",
      "\n",
      "Write a one-line procedure ```correct(A)``` with the following spec:\n",
      "\n",
      "**input**: a matrix $A$ each column of which differs from a codeword in at most one bit\n",
      "\n",
      "**output**: a matrix whose columns are the corresponding valid codewords\n",
      "\n",
      "**Example**:\n",
      "    >>> A = Mat(({0,1,2,3,4,5,6}, {1,2,3}), {(0,3):one, (2, 1): one, (5, 2):one, (5,3):one, (0,2): one})\n",
      "    >>> correct(A) == Mat(({0, 1, 2, 3, 4, 5, 6}, {1, 2, 3}), {(0, 1): 0, (1, 2): 0, (3, 2): 0, (1, 3): 0, (3, 3): 0, (5, 2): one, (6, 1): 0, (3, 1): 0, (2, 1): 0, (0, 2): one, (6, 3): one, (4, 2): 0, (6, 2): one, (2, 3): 0, (4, 3): 0, (2, 2): 0, (5, 1): 0, (0, 3): one, (4, 1): 0, (1, 1): 0, (5, 3): one})\n",
      "    True\n",
      "\n",
      "The procedure __should contain no loops or comprehensions__. Just use matrix-matrix multiplications and matrix-matrix additions together with a procedure you have written in this lab."
     ]
    },
    {
     "cell_type": "code",
     "collapsed": false,
     "input": [
      "def correct(A):\n",
      "    # CC = A by definition\n",
      "    # calculating matrix of syndromes\n",
      "    syn_matrix = H * A\n",
      "    # errors matrix\n",
      "    e_matrix = find_error_matrix(syn_matrix)\n",
      "    # codewords matrix\n",
      "    return A + e_matrix"
     ],
     "language": "python",
     "metadata": {},
     "outputs": [],
     "prompt_number": 15
    },
    {
     "cell_type": "code",
     "collapsed": false,
     "input": [
      "bits2str(mat2bits(R * C))"
     ],
     "language": "python",
     "metadata": {},
     "outputs": [
      {
       "metadata": {},
       "output_type": "pyout",
       "prompt_number": 16,
       "text": [
        "\"I'm trying to free your mind, Neo. But I can only show you the door. You're the one that has to walk through it.\""
       ]
      }
     ],
     "prompt_number": 16
    }
   ],
   "metadata": {}
  }
 ]
}