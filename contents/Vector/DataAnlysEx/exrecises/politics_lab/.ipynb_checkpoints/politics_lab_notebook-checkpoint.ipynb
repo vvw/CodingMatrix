{
 "metadata": {
  "name": "",
  "signature": "sha256:359df865409af5fce61cf60069cabcfc6afd7f7e1275d0f5e3dc0ece6088d03e"
 },
 "nbformat": 3,
 "nbformat_minor": 0,
 "worksheets": [
  {
   "cells": [
    {
     "cell_type": "heading",
     "level": 1,
     "metadata": {},
     "source": [
      "<span style=\"color: rgb(36, 85, 195);\">Comparing Voting Records using Dot-Product</span>"
     ]
    },
    {
     "cell_type": "markdown",
     "metadata": {},
     "source": [
      "### <span style=\"color: #2878A2;\">_Assumptions_</span>\n",
      "\n",
      "* We will represent a US senator\u2019s voting record as a vector over R, and will use dot-products to compare voting records.\n",
      "* For this lab, we will just use a list to represent a vector.\n",
      "* We will use vectors to evaluate **objectively** the political mindset of the senators.\n",
      "\n",
      "### <span style=\"color: #2878A2;\">_Facts_</span>\n",
      "* Each senator\u2019s voting record can be represented as a vector, where each element of that vector represents how that senator voted on a given piece of legislation.\n",
      "* By looking at the difference between the \u201cvoting vectors\u201d of two senators, we can dispel the fog of politics.\n",
      "* The information you need to work with is stored in a whitespace-delimited text file **_voting record dump109.txt_**.\n",
      "\n",
      "### <span style=\"color: #2878A2;\">_Raw-data structure_</span>\n",
      "* Each line of the file represents the voting record of a different senator.\n",
      "* **First element** of the list will be the **senator\u2019s last name**.\n",
      "* **Second** will be his/her party **affiliation** (R or D).\n",
      "* **Third** will be his/her **home state**.\n",
      "* **Remaining** elements of the list will be that senator\u2019s **voting record** on a collection of bills. A ***\"1\"*** represents a ***'yea'*** vote, a ***\"-1\"*** a ***'nay'***, and a ***\"0\"*** an ***abstention***."
     ]
    },
    {
     "cell_type": "heading",
     "level": 2,
     "metadata": {},
     "source": [
      "<span style=\"color: rgb(36, 85, 195);\">0. Help functions</span>"
     ]
    },
    {
     "cell_type": "markdown",
     "metadata": {},
     "source": [
      "#### <span style=\"color: #2878A2;\">0.1 Key_value_max function</span>\n",
      "\n",
      "**Input**: a tuple or list containing (key, value) pairs\n",
      "\n",
      "**Output**: the key paired with the max value in the estructure"
     ]
    },
    {
     "cell_type": "code",
     "collapsed": false,
     "input": [
      "def key_value_max(data):\n",
      "    key, val = '', -float('infinity')\n",
      "    for (d_key, value) in data:\n",
      "        if val < value:\n",
      "            val, key = value, d_key\n",
      "    return key, val"
     ],
     "language": "python",
     "metadata": {},
     "outputs": [],
     "prompt_number": 1
    },
    {
     "cell_type": "markdown",
     "metadata": {},
     "source": [
      "#### <span style=\"color: #2878A2;\">0.2 Key_value_min function</span>\n",
      "\n",
      "**Input**: a tuple or list containing (key, value) pairs\n",
      "\n",
      "**Output**: the key paired with the min value in the estructure"
     ]
    },
    {
     "cell_type": "code",
     "collapsed": false,
     "input": [
      "def key_value_min(data):\n",
      "    key, val = '', float('infinity')\n",
      "    for (d_key, value) in data:\n",
      "        if val > value:\n",
      "            val, key = value, d_key\n",
      "    return key, val"
     ],
     "language": "python",
     "metadata": {},
     "outputs": [],
     "prompt_number": 2
    },
    {
     "cell_type": "markdown",
     "metadata": {},
     "source": [
      "#### <span style=\"color: #2878A2;\">0.3 Max_in_dict function</span>\n",
      "\n",
      "**Input**: a dictionary containing (key, value) pairs\n",
      "\n",
      "**Output**: the key paired with the max value in the estructure"
     ]
    },
    {
     "cell_type": "code",
     "collapsed": false,
     "input": [
      "def max_in_dict(kvd):\n",
      "    key, val = '', -float('infinity')\n",
      "    for d_key in kvd:\n",
      "        if val < kvd[d_key]:\n",
      "            key, val = d_key, kvd[d_key]\n",
      "    return key, val"
     ],
     "language": "python",
     "metadata": {},
     "outputs": [],
     "prompt_number": 119
    },
    {
     "cell_type": "heading",
     "level": 2,
     "metadata": {},
     "source": [
      "<span style=\"color: rgb(36, 85, 195);\">1. Getting and cleaning data</span>"
     ]
    },
    {
     "cell_type": "markdown",
     "metadata": {},
     "source": [
      "#### <span style=\"color: #2878A2;\">1.1 Create_voting_dict function</span>\n",
      "\n",
      "**Input**: a list of strings.  Each string represents the voting record of a senator. The string consists of \n",
      "    - the senator's last name, \n",
      "    - a letter indicating the senator's party,\n",
      "    - a couple of letters indicating the senator's home state, and\n",
      "    - a sequence of numbers (0's, 1's, and negative 1's) indicating the senator's votes on bills all separated by spaces.\n",
      "\n",
      "**Output**: A dictionary that maps the last name of a senator to a list of numbers representing the senator's voting record.\n",
      "\n",
      "**Example**:\n",
      "\n",
      "    >>> vd = create_voting_dict(['Kennedy D MA -1 -1 1 1', 'Snowe R ME 1 1 1 1'])\n",
      "    >>> vd == {'Snowe': [1, 1, 1, 1], 'Kennedy': [-1, -1, 1, 1]}\n",
      "    True"
     ]
    },
    {
     "cell_type": "code",
     "collapsed": false,
     "input": [
      "def create_voting_dict(strlist):\n",
      "    vd = {}\n",
      "    for line in strlist:\n",
      "        splited = line.split()\n",
      "        vd[splited[0]] = [int(vote) for vote in splited[3:]]\n",
      "    return vd"
     ],
     "language": "python",
     "metadata": {},
     "outputs": [],
     "prompt_number": 120
    },
    {
     "cell_type": "markdown",
     "metadata": {},
     "source": [
      "#### <span style=\"color: #2878A2;\">1.2 Create voting_dict and affiliation_dict</span>"
     ]
    },
    {
     "cell_type": "code",
     "collapsed": false,
     "input": [
      "# reading and cleannig the data\n",
      "with open('voting_record_dump109.txt', 'r') as raw_data:\n",
      "    data = [line.replace('\\n', '') for line in raw_data]\n",
      "\n",
      "# creating votng_dict vd\n",
      "vd = create_voting_dict(data)\n",
      "\n",
      "# creating affiliation_dict\n",
      "affil = {dat.split()[0]: dat.split()[1] for dat in data}\n",
      "\n",
      "# set of democrats\n",
      "democrats = {name for name in affil if affil[name] == 'D'}"
     ],
     "language": "python",
     "metadata": {},
     "outputs": [],
     "prompt_number": 121
    },
    {
     "cell_type": "heading",
     "level": 2,
     "metadata": {},
     "source": [
      "<span style=\"color: rgb(36, 85, 195);\">2. Policy compare</span>"
     ]
    },
    {
     "cell_type": "markdown",
     "metadata": {},
     "source": [
      "Suppose $u$ and $v$ are two vectors. Let\u2019s take the simple case (relevant to the current lab) in which the entries are all 1, 0, or -1. Recall that the dot-product of $u$ and $v$ is defined as:\n",
      "\n",
      "$$u \\cdot v = \\sum_{k} u[k] \\cdot v[k]$$\n",
      "\n",
      "Consider the $k^{th}$ entry. If both $u[k]$ and $v[k]$ are 1, the corresponding term in the sum is 1. If both $u[k]$ and $v[k]$ are -1, the corresponding term in the sum is also 1. Thus a term in the sum that is 1 indicates agreement. If, on the other hand, $u[k]$ and $v[k]$ have different signs, the corresponding term is -1. Thus a term in the sum that is -1 indicates disagreement. (If one or both of $u[k]$ and $v[k]$ are zero then the term is zero, reflecting the fact that those entries provide no evidence of either agreement or disagreement). The\n",
      "dot-product of $u$ and $v$ therefore is a measure of how much $u$ and $v$ are in agreement."
     ]
    },
    {
     "cell_type": "markdown",
     "metadata": {},
     "source": [
      "#### <span style=\"color: #2878A2;\">2.1 Policy_compare function</span>\n",
      "\n",
      "**Input**: last names of sen_a and sen_b, and a voting dictionary mapping senator names to lists representing their voting records.\n",
      "\n",
      "**Output**: the dot-product (as a number) representing the degree of similarity between two senators' voting policies.\n",
      "\n",
      "**Example**:\n",
      "\n",
      "    >>> voting_dict= {'Fox-Epstein':[-1,-1,-1,1],'Ravella':[1,1,1,1]}\n",
      "    >>> policy_compare('Fox-Epstein','Ravella', voting_dict)\n",
      "    -2\n",
      "    \n",
      "The code should correct compute dot-product even if the numbers are not all in {0,1,-1}.\n",
      "\n",
      "    >>> policy_compare('A', 'B', {'A':[100,10,1], 'B':[2,5,3]})\n",
      "    253"
     ]
    },
    {
     "cell_type": "code",
     "collapsed": false,
     "input": [
      "def policy_compare(sen_a, sen_b, voting_dict):\n",
      "    return sum(vote_a * vote_b for (vote_a, vote_b) in \n",
      "                        zip(voting_dict[sen_a], voting_dict[sen_b]))"
     ],
     "language": "python",
     "metadata": {},
     "outputs": [],
     "prompt_number": 122
    },
    {
     "cell_type": "heading",
     "level": 2,
     "metadata": {},
     "source": [
      "<span style=\"color: rgb(36, 85, 195);\">3. Most and least similar policies</span>"
     ]
    },
    {
     "cell_type": "markdown",
     "metadata": {},
     "source": [
      "#### <span style=\"color: #2878A2;\">3.1 Most_similar function</span>\n",
      "\n",
      "**Input**: the last name of a senator, and a dictionary mapping senator names to lists representing their voting records.\n",
      "\n",
      "**Output**: the last name of the senator whose political mindset is most like the input senator (excluding, of course, the input senator him/herself). Resolve ties arbitrarily.\n",
      "\n",
      "**Example**:\n",
      "    >>> vd = {'Klein': [1,1,1], 'Fox-Epstein': [1,-1,0], 'Ravella': [-1,0,0]}\n",
      "    >>> most_similar('Klein', vd)\n",
      "    'Fox-Epstein'"
     ]
    },
    {
     "cell_type": "code",
     "collapsed": false,
     "input": [
      "def most_similar(sen, voting_dict):\n",
      "    similarity = [ (name, policy_compare(sen, name, voting_dict)) \n",
      "                              for name in voting_dict if name != sen]\n",
      "    return key_value_max(similarity)[0]"
     ],
     "language": "python",
     "metadata": {},
     "outputs": [],
     "prompt_number": 123
    },
    {
     "cell_type": "markdown",
     "metadata": {},
     "source": [
      "#### <span style=\"color: #2878A2;\">3.2 Which senator is most like Rhode Island legend Lincoln Chafee?</span>"
     ]
    },
    {
     "cell_type": "code",
     "collapsed": false,
     "input": [
      "most_similar('Chafee', vd)"
     ],
     "language": "python",
     "metadata": {},
     "outputs": [
      {
       "metadata": {},
       "output_type": "pyout",
       "prompt_number": 124,
       "text": [
        "'Jeffords'"
       ]
      }
     ],
     "prompt_number": 124
    },
    {
     "cell_type": "markdown",
     "metadata": {},
     "source": [
      "#### <span style=\"color: #2878A2;\">3.3 Least_similar function</span>\n",
      "\n",
      "**Input**: the last name of a senator, and a dictionary mapping senator names to lists representing their voting records.\n",
      "\n",
      "**Output**: the last name of the senator whose political mindset is least like the input senator.\n",
      "\n",
      "**Example**:\n",
      "\n",
      "    >>> vd = {'a': [1,1,1], 'b': [1,-1,0], 'c': [-1,0,0]}\n",
      "    >>> least_similar('a', vd)\n",
      "    'c'"
     ]
    },
    {
     "cell_type": "code",
     "collapsed": false,
     "input": [
      "def least_similar(sen, voting_dict):\n",
      "    similarity = [ (name, policy_compare(sen, name, voting_dict)) \n",
      "                              for name in voting_dict if name != sen]\n",
      "    return key_value_min(similarity)[0]"
     ],
     "language": "python",
     "metadata": {},
     "outputs": [],
     "prompt_number": 125
    },
    {
     "cell_type": "markdown",
     "metadata": {},
     "source": [
      "#### <span style=\"color: #2878A2;\">3.4 Who disagrees most with Pennsylvania\u2019s Rick Santorum?</span>"
     ]
    },
    {
     "cell_type": "code",
     "collapsed": false,
     "input": [
      "least_similar('Santorum', vd)"
     ],
     "language": "python",
     "metadata": {},
     "outputs": [
      {
       "metadata": {},
       "output_type": "pyout",
       "prompt_number": 126,
       "text": [
        "'Feingold'"
       ]
      }
     ],
     "prompt_number": 126
    },
    {
     "cell_type": "heading",
     "level": 2,
     "metadata": {},
     "source": [
      "<span style=\"color: rgb(36, 85, 195);\">4. Avarage similarity</span>"
     ]
    },
    {
     "cell_type": "markdown",
     "metadata": {},
     "source": [
      "#### <span style=\"color: #2878A2;\">4.1 Find_average_similarity function</span>\n",
      "\n",
      "Given the name of a senator, compares that senator\u2019s voting record to the voting records of all senators whose names are in *sen_set*, computing a *policy_compare-value* for each, and then returns the average *policy_compare-value*.\n",
      "\n",
      "**Input**: the name of a senator, a set of senator names, and a voting dictionary.\n",
      "\n",
      "**Output**: the average dot-product between sen and those in sen_set.\n",
      "\n",
      "**Example**:\n",
      "    \n",
      "    >>> vd = {'Klein': [1,1,1], 'Fox-Epstein': [1,-1,0], 'Ravella': [-1,0,0]}\n",
      "    >>> find_average_similarity('Klein', {'Fox-Epstein','Ravella'}, vd)\n",
      "    -0.5"
     ]
    },
    {
     "cell_type": "code",
     "collapsed": false,
     "input": [
      "def find_average_similarity(sen, sen_set, voting_dict):\n",
      "    sim_vals = [policy_compare(sen, name, voting_dict) \n",
      "                                for name in sen_set if name != sen]\n",
      "    return sum(sim_vals) / float(len(sim_vals))"
     ],
     "language": "python",
     "metadata": {},
     "outputs": [],
     "prompt_number": 127
    },
    {
     "cell_type": "markdown",
     "metadata": {},
     "source": [
      "#### <span style=\"color: #2878A2;\">4.2 Which senator has the greatest average similarity with the set of Democrats?</span>"
     ]
    },
    {
     "cell_type": "code",
     "collapsed": false,
     "input": [
      "# average similarity with democrats (aswd)\n",
      "aswd = [(name, find_average_similarity(name, democrats, vd))\n",
      "                                                   for name in affil]\n",
      "key_value_max(aswd)"
     ],
     "language": "python",
     "metadata": {},
     "outputs": [
      {
       "metadata": {},
       "output_type": "pyout",
       "prompt_number": 128,
       "text": [
        "('Biden', 34.595238095238095)"
       ]
      }
     ],
     "prompt_number": 128
    },
    {
     "cell_type": "heading",
     "level": 2,
     "metadata": {},
     "source": [
      "<span style=\"color: rgb(36, 85, 195);\">5. Avarage record</span>"
     ]
    },
    {
     "cell_type": "markdown",
     "metadata": {},
     "source": [
      "In the last task, you had to compare each senator\u2019s record to the voting record of each Democrat senator. If you were doing the same computation with, say, the movie preferences of all Netflix subscribers, it would take far too long to be practical.\n",
      "\n",
      "Next we see that there is a computational shortcut, based on an algebraic property of the dot-product: the distributive property:\n",
      "\n",
      "$$(v_1 + v_2) \\cdot x = v_1 \\cdot x + v_2 \\cdot x$$"
     ]
    },
    {
     "cell_type": "markdown",
     "metadata": {},
     "source": [
      "#### <span style=\"color: #2878A2;\">5.1 Find_avarage_record function</span>\n",
      "\n",
      "Given a set of names of senators, finds the average voting record.\n",
      "\n",
      "**Input**: a set of last names, a voting dictionary.\n",
      "\n",
      "**Output**: a vector containing the average components of the voting records of the senators in the input set.\n",
      "\n",
      "**Example**:\n",
      "    \n",
      "    >>> voting_dict = {'Klein': [-1,0,1], 'Fox-Epstein': [-1,-1,-1], 'Ravella': [0,0,1]}\n",
      "    >>> find_average_record({'Fox-Epstein','Ravella'}, voting_dict)\n",
      "    [-0.5, -0.5, 0.0]\n",
      "    >>> d = {'c': [-1,-1,0], 'b': [0,1,1], 'a': [0,1,1], 'e': [-1,-1,1], 'd': [-1,1,1]}\n",
      "    >>> find_average_record({'a','c','e'}, d)\n",
      "    [-0.6666666666666666, -0.3333333333333333, 0.6666666666666666]\n",
      "    >>> find_average_record({'a','c','e','b'}, d)\n",
      "    [-0.5, 0.0, 0.75]\n",
      "    >>> find_average_record({'a'}, d)\n",
      "    [0.0, 1.0, 1.0]"
     ]
    },
    {
     "cell_type": "code",
     "collapsed": false,
     "input": [
      "def find_average_record(sen_set, voting_dict):\n",
      "    # length of the voting record\n",
      "    vot_rec_len = len(voting_dict[list(voting_dict.keys())[0]])\n",
      "    av_rec = [ sum([voting_dict[name][idx] for name in sen_set]) \n",
      "                                          for idx in range(vot_rec_len)]\n",
      "    return [ val / float(len(sen_set)) for val in av_rec]"
     ],
     "language": "python",
     "metadata": {},
     "outputs": [],
     "prompt_number": 129
    },
    {
     "cell_type": "markdown",
     "metadata": {},
     "source": [
      "#### <span style=\"color: #2878A2;\">5.2 Which senator\u2019s voting record is most similar to the average Democrat voting record?</span>"
     ]
    },
    {
     "cell_type": "code",
     "collapsed": false,
     "input": [
      "# democrats avarage record (dar)\n",
      "dar = find_average_record(democrats, vd)\n",
      "\n",
      "# policy compare between a senator and the avarage vector\n",
      "vec_policy_compare = lambda vec1, vec2: sum(v1 * v2 \n",
      "                                      for (v1, v2) in zip(vec1, vec2))\n",
      "\n",
      "# similarity with avarage democrats record (sadr)\n",
      "sadr = [(name, vec_policy_compare(vd[name], dar)) for name in affil]\n",
      "key_value_max(sadr)"
     ],
     "language": "python",
     "metadata": {},
     "outputs": [
      {
       "metadata": {},
       "output_type": "pyout",
       "prompt_number": 130,
       "text": [
        "('Biden', 34.860465116279066)"
       ]
      }
     ],
     "prompt_number": 130
    },
    {
     "cell_type": "heading",
     "level": 2,
     "metadata": {},
     "source": [
      "<span style=\"color: rgb(36, 85, 195);\">6. Bitter rivals</span>"
     ]
    },
    {
     "cell_type": "markdown",
     "metadata": {},
     "source": [
      "#### <span style=\"color: #2878A2;\">6.1 Bitter_rivals function</span>\n",
      "\n",
      "**Input**: a dictionary mapping senator names to lists representing their voting records\n",
      "\n",
      "**Output**: a tuple containing the two senators who most strongly disagree with one another.\n",
      "\n",
      "**Example**: \n",
      "\n",
      "    >>> voting_dict = {'Klein': [-1,0,1], 'Fox-Epstein': [-1,-1,-1], 'Ravella': [0,0,1]}\n",
      "    >>> br = bitter_rivals(voting_dict)\n",
      "    >>> br == ('Fox-Epstein', 'Ravella') or br == ('Ravella', 'Fox-Epstein')\n",
      "    True"
     ]
    },
    {
     "cell_type": "code",
     "collapsed": false,
     "input": [
      "def bitter_rivals(voting_dict):\n",
      "    tuple_vals = [\n",
      "                    ((name1, name2),\n",
      "                     policy_compare(name1, name2, voting_dict))\n",
      "                        for name1 in voting_dict\n",
      "                        for name2 in voting_dict if name1 != name2]\n",
      "    return key_value_min(tuple_vals)[0]"
     ],
     "language": "python",
     "metadata": {},
     "outputs": [],
     "prompt_number": 131
    },
    {
     "cell_type": "markdown",
     "metadata": {},
     "source": [
      "#### <span style=\"color: #2878A2;\">6.2 Which two senators disagree the most?</span>"
     ]
    },
    {
     "cell_type": "code",
     "collapsed": false,
     "input": [
      "bitter_rivals(vd)"
     ],
     "language": "python",
     "metadata": {},
     "outputs": [
      {
       "metadata": {},
       "output_type": "pyout",
       "prompt_number": 132,
       "text": [
        "('Inhofe', 'Feingold')"
       ]
      }
     ],
     "prompt_number": 132
    },
    {
     "cell_type": "heading",
     "level": 2,
     "metadata": {},
     "source": [
      "<span style=\"color: rgb(36, 85, 195);\">7. Political oponents</span>"
     ]
    },
    {
     "cell_type": "markdown",
     "metadata": {},
     "source": [
      "#### <span style=\"color: #2878A2;\">7.1 Which senator has the most political opponents?</span>\n",
      "\n",
      "Assume two senators are opponents if their dot-product is very negative, i.e. is less than some negative threshold."
     ]
    },
    {
     "cell_type": "markdown",
     "metadata": {},
     "source": [
      "<span style=\"color: #2878A2;\">Mean value of politic compare</span>"
     ]
    },
    {
     "cell_type": "code",
     "collapsed": false,
     "input": [
      "# creating a set of sets with unique pairs\n",
      "unique_pairs = { frozenset([name1, name2]) for name1 in vd\n",
      "                          for name2 in vd if name1 != name2}\n",
      "\n",
      "# obtaining the mean value of all cross-comparations between senators\n",
      "allpc = [ policy_compare(sen1, sen2, vd) for sen1, sen2 in unique_pairs]\n",
      "mean_pc = sum(allpc) / float(len(allpc))\n",
      "print mean_pc"
     ],
     "language": "python",
     "metadata": {},
     "outputs": [
      {
       "output_type": "stream",
       "stream": "stdout",
       "text": [
        "27.4195011338\n"
       ]
      }
     ],
     "prompt_number": 133
    },
    {
     "cell_type": "markdown",
     "metadata": {},
     "source": [
      "<span style=\"color: #2878A2;\">List of political oponents</span>"
     ]
    },
    {
     "cell_type": "code",
     "collapsed": false,
     "input": [
      "# based on policy_compare < 0.5 * mean_pc\n",
      "th = 0.5 * mean_pc\n",
      "polops = [ [sen1, sen2] for sen1, sen2 in unique_pairs\n",
      "                          if (policy_compare(sen1, sen2, vd) < th)]"
     ],
     "language": "python",
     "metadata": {},
     "outputs": [],
     "prompt_number": 134
    },
    {
     "cell_type": "markdown",
     "metadata": {},
     "source": [
      "<span style=\"color: #2878A2;\">Number of political oponents per senator</span>"
     ]
    },
    {
     "cell_type": "code",
     "collapsed": false,
     "input": [
      "from itertools import chain\n",
      "from collections import Counter\n",
      "\n",
      "# counting the number of political anemies\n",
      "names = list(chain.from_iterable(polops))\n",
      "numops = Counter(names)"
     ],
     "language": "python",
     "metadata": {},
     "outputs": [],
     "prompt_number": 135
    },
    {
     "cell_type": "markdown",
     "metadata": {},
     "source": [
      "<span style=\"color: #2878A2;\">Senator with more political oponents</span>"
     ]
    },
    {
     "cell_type": "code",
     "collapsed": false,
     "input": [
      "max_in_dict(numops)"
     ],
     "language": "python",
     "metadata": {},
     "outputs": [
      {
       "metadata": {},
       "output_type": "pyout",
       "prompt_number": 136,
       "text": [
        "('Feingold', 55)"
       ]
      }
     ],
     "prompt_number": 136
    },
    {
     "cell_type": "markdown",
     "metadata": {},
     "source": [
      "<span style=\"color: #2878A2;\">EXTRA: how numops looks</span>"
     ]
    },
    {
     "cell_type": "code",
     "collapsed": false,
     "input": [
      "numops"
     ],
     "language": "python",
     "metadata": {},
     "outputs": [
      {
       "metadata": {},
       "output_type": "pyout",
       "prompt_number": 137,
       "text": [
        "Counter({'Feingold': 55, 'Coburn': 33, 'Sununu': 32, 'Akaka': 30, 'Leahy': 30, 'Inhofe': 28, 'Harkin': 26, 'Boxer': 26, 'DeMint': 23, 'McCain': 23, 'Enzi': 17, 'Sarbanes': 17, 'Kennedy': 17, 'Mikulski': 17, 'Durbin': 17, 'Levin': 17, 'Inouye': 16, 'Bunning': 15, 'Ensign': 15, 'Reed': 15, 'Cornyn': 15, 'Lautenberg': 14, 'Gregg': 14, 'Sessions': 14, 'Allard': 13, 'Isakson': 13, 'Chambliss': 13, 'Kyl': 12, 'Kerry': 12, 'Martinez': 12, 'Alexander': 12, 'Wyden': 10, 'Graham': 9, 'Dodd': 8, 'Murray': 7, 'Lieberman': 7, 'Bingaman': 6, 'Dorgan': 6, 'Brownback': 5, 'Roberts': 5, 'Hagel': 5, 'Biden': 5, 'Allen': 5, 'Hutchison': 5, 'Dayton': 5, 'Talent': 5, 'Byrd': 5, 'Grassley': 5, 'Reid': 5, 'Bond': 5, 'Santorum': 4, 'Thomas': 4, 'Crapo': 4, 'Bayh': 4, 'Conrad': 4, 'Lott': 3, 'Schumer': 3, 'Hatch': 3, 'Obama': 3, 'Vitter': 2, 'Dole': 2, 'Thune': 2, 'Jeffords': 2, 'Rockefeller': 2, 'Chafee': 2, 'Kohl': 2, 'Pryor': 1, 'Shelby': 1, 'Smith': 1, 'Domenici': 1, 'Burr': 1, 'Burns': 1, 'DeWine': 1, 'Specter': 1, 'Landrieu': 1, 'Voinovich': 1, 'Warner': 1, 'Clinton': 1, 'Cantwell': 1, 'Frist': 1, 'Baucus': 1, 'Murkowski': 1, 'Craig': 1, 'Bennett': 1, 'Nelson2': 1, 'McConnell': 1, 'Coleman': 1, 'Lugar': 1, 'Cochran': 1, 'Stevens': 1})"
       ]
      }
     ],
     "prompt_number": 137
    }
   ],
   "metadata": {}
  }
 ]
}